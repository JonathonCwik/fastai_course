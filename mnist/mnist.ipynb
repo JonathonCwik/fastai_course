{
 "cells": [
  {
   "cell_type": "markdown",
   "metadata": {},
   "source": [
    "# Typical MNIST Implementation"
   ]
  },
  {
   "cell_type": "code",
   "execution_count": 2,
   "metadata": {},
   "outputs": [
    {
     "data": {
      "image/png": "[encoded data removed]",
      "text/plain": [
       "<PIL.PngImagePlugin.PngImageFile image mode=L size=28x28>"
      ]
     },
     "execution_count": 2,
     "metadata": {},
     "output_type": "execute_result"
    }
   ],
   "source": [
    "from fastcore.all import *\n",
    "from fastai.data.all import *\n",
    "from fastai.vision.all import *\n",
    "from PIL import Image\n",
    "\n",
    "path = Path(\"./mnist_sample/train\")\n",
    "threes = (path/'3').ls().sorted()\n",
    "sevens = (path/'7').ls().sorted()\n",
    "im3 = Image.open(threes[1])\n",
    "im3"
   ]
  },
  {
   "cell_type": "code",
   "execution_count": 3,
   "metadata": {},
   "outputs": [
    {
     "data": {
      "text/plain": [
       "array([[  0,   0,   0,   0,   0,   0],\n",
       "       [  0,   0,   0,   0,   0,  29],\n",
       "       [  0,   0,   0,  48, 166, 224],\n",
       "       [  0,  93, 244, 249, 253, 187],\n",
       "       [  0, 107, 253, 253, 230,  48],\n",
       "       [  0,   3,  20,  20,  15,   0]], dtype=uint8)"
      ]
     },
     "execution_count": 3,
     "metadata": {},
     "output_type": "execute_result"
    }
   ],
   "source": [
    "array(im3)[4:10, 4:10]"
   ]
  },
  {
   "cell_type": "code",
   "execution_count": 4,
   "metadata": {},
   "outputs": [
    {
     "data": {
      "text/html": [
       "<style type=\"text/css\">\n",
       "#T_d7fee_row0_col0, #T_d7fee_row0_col1, #T_d7fee_row0_col2, #T_d7fee_row0_col3, #T_d7fee_row0_col4, #T_d7fee_row0_col5, #T_d7fee_row0_col6, #T_d7fee_row0_col7, #T_d7fee_row0_col8, #T_d7fee_row0_col9, #T_d7fee_row0_col10, #T_d7fee_row0_col11, #T_d7fee_row0_col12, #T_d7fee_row0_col13, #T_d7fee_row0_col14, #T_d7fee_row0_col15, #T_d7fee_row0_col16, #T_d7fee_row0_col17, #T_d7fee_row1_col0, #T_d7fee_row1_col1, #T_d7fee_row1_col2, #T_d7fee_row1_col3, #T_d7fee_row1_col4, #T_d7fee_row1_col15, #T_d7fee_row1_col16, #T_d7fee_row1_col17, #T_d7fee_row2_col0, #T_d7fee_row2_col1, #T_d7fee_row2_col2, #T_d7fee_row2_col15, #T_d7fee_row2_col16, #T_d7fee_row2_col17, #T_d7fee_row3_col0, #T_d7fee_row3_col15, #T_d7fee_row3_col16, #T_d7fee_row3_col17, #T_d7fee_row4_col0, #T_d7fee_row4_col6, #T_d7fee_row4_col7, #T_d7fee_row4_col8, #T_d7fee_row4_col9, #T_d7fee_row4_col10, #T_d7fee_row4_col15, #T_d7fee_row4_col16, #T_d7fee_row4_col17, #T_d7fee_row5_col0, #T_d7fee_row5_col5, #T_d7fee_row5_col6, #T_d7fee_row5_col7, #T_d7fee_row5_col8, #T_d7fee_row5_col9, #T_d7fee_row5_col15, #T_d7fee_row5_col16, #T_d7fee_row5_col17, #T_d7fee_row6_col0, #T_d7fee_row6_col1, #T_d7fee_row6_col2, #T_d7fee_row6_col3, #T_d7fee_row6_col4, #T_d7fee_row6_col5, #T_d7fee_row6_col6, #T_d7fee_row6_col7, #T_d7fee_row6_col8, #T_d7fee_row6_col9, #T_d7fee_row6_col14, #T_d7fee_row6_col15, #T_d7fee_row6_col16, #T_d7fee_row6_col17, #T_d7fee_row7_col0, #T_d7fee_row7_col1, #T_d7fee_row7_col2, #T_d7fee_row7_col3, #T_d7fee_row7_col4, #T_d7fee_row7_col5, #T_d7fee_row7_col6, #T_d7fee_row7_col13, #T_d7fee_row7_col14, #T_d7fee_row7_col15, #T_d7fee_row7_col16, #T_d7fee_row7_col17, #T_d7fee_row8_col0, #T_d7fee_row8_col1, #T_d7fee_row8_col2, #T_d7fee_row8_col3, #T_d7fee_row8_col4, #T_d7fee_row8_col13, #T_d7fee_row8_col14, #T_d7fee_row8_col15, #T_d7fee_row8_col16, #T_d7fee_row8_col17, #T_d7fee_row9_col0, #T_d7fee_row9_col1, #T_d7fee_row9_col2, #T_d7fee_row9_col3, #T_d7fee_row9_col4, #T_d7fee_row9_col16, #T_d7fee_row9_col17, #T_d7fee_row10_col0, #T_d7fee_row10_col1, #T_d7fee_row10_col2, #T_d7fee_row10_col3, #T_d7fee_row10_col4, #T_d7fee_row10_col5, #T_d7fee_row10_col6, #T_d7fee_row10_col17 {\n",
       "  font-size: 6pt;\n",
       "  background-color: #ffffff;\n",
       "  color: #000000;\n",
       "}\n",
       "#T_d7fee_row1_col5 {\n",
       "  font-size: 6pt;\n",
       "  background-color: #efefef;\n",
       "  color: #000000;\n",
       "}\n",
       "#T_d7fee_row1_col6, #T_d7fee_row1_col13 {\n",
       "  font-size: 6pt;\n",
       "  background-color: #7c7c7c;\n",
       "  color: #f1f1f1;\n",
       "}\n",
       "#T_d7fee_row1_col7 {\n",
       "  font-size: 6pt;\n",
       "  background-color: #4a4a4a;\n",
       "  color: #f1f1f1;\n",
       "}\n",
       "#T_d7fee_row1_col8, #T_d7fee_row1_col9, #T_d7fee_row1_col10, #T_d7fee_row2_col5, #T_d7fee_row2_col6, #T_d7fee_row2_col7, #T_d7fee_row2_col11, #T_d7fee_row2_col12, #T_d7fee_row2_col13, #T_d7fee_row3_col4, #T_d7fee_row3_col12, #T_d7fee_row3_col13, #T_d7fee_row4_col1, #T_d7fee_row4_col2, #T_d7fee_row4_col3, #T_d7fee_row4_col12, #T_d7fee_row4_col13, #T_d7fee_row5_col12, #T_d7fee_row6_col11, #T_d7fee_row9_col11, #T_d7fee_row10_col11, #T_d7fee_row10_col12, #T_d7fee_row10_col13, #T_d7fee_row10_col14, #T_d7fee_row10_col15, #T_d7fee_row10_col16 {\n",
       "  font-size: 6pt;\n",
       "  background-color: #000000;\n",
       "  color: #f1f1f1;\n",
       "}\n",
       "#T_d7fee_row1_col11 {\n",
       "  font-size: 6pt;\n",
       "  background-color: #606060;\n",
       "  color: #f1f1f1;\n",
       "}\n",
       "#T_d7fee_row1_col12 {\n",
       "  font-size: 6pt;\n",
       "  background-color: #4d4d4d;\n",
       "  color: #f1f1f1;\n",
       "}\n",
       "#T_d7fee_row1_col14 {\n",
       "  font-size: 6pt;\n",
       "  background-color: #bbbbbb;\n",
       "  color: #000000;\n",
       "}\n",
       "#T_d7fee_row2_col3 {\n",
       "  font-size: 6pt;\n",
       "  background-color: #e4e4e4;\n",
       "  color: #000000;\n",
       "}\n",
       "#T_d7fee_row2_col4, #T_d7fee_row8_col6 {\n",
       "  font-size: 6pt;\n",
       "  background-color: #6b6b6b;\n",
       "  color: #f1f1f1;\n",
       "}\n",
       "#T_d7fee_row2_col8, #T_d7fee_row2_col14, #T_d7fee_row3_col14 {\n",
       "  font-size: 6pt;\n",
       "  background-color: #171717;\n",
       "  color: #f1f1f1;\n",
       "}\n",
       "#T_d7fee_row2_col9, #T_d7fee_row3_col11 {\n",
       "  font-size: 6pt;\n",
       "  background-color: #4b4b4b;\n",
       "  color: #f1f1f1;\n",
       "}\n",
       "#T_d7fee_row2_col10, #T_d7fee_row7_col10, #T_d7fee_row8_col8, #T_d7fee_row8_col10, #T_d7fee_row9_col8, #T_d7fee_row9_col10 {\n",
       "  font-size: 6pt;\n",
       "  background-color: #010101;\n",
       "  color: #f1f1f1;\n",
       "}\n",
       "#T_d7fee_row3_col1 {\n",
       "  font-size: 6pt;\n",
       "  background-color: #272727;\n",
       "  color: #f1f1f1;\n",
       "}\n",
       "#T_d7fee_row3_col2 {\n",
       "  font-size: 6pt;\n",
       "  background-color: #0a0a0a;\n",
       "  color: #f1f1f1;\n",
       "}\n",
       "#T_d7fee_row3_col3 {\n",
       "  font-size: 6pt;\n",
       "  background-color: #050505;\n",
       "  color: #f1f1f1;\n",
       "}\n",
       "#T_d7fee_row3_col5 {\n",
       "  font-size: 6pt;\n",
       "  background-color: #333333;\n",
       "  color: #f1f1f1;\n",
       "}\n",
       "#T_d7fee_row3_col6 {\n",
       "  font-size: 6pt;\n",
       "  background-color: #e6e6e6;\n",
       "  color: #000000;\n",
       "}\n",
       "#T_d7fee_row3_col7, #T_d7fee_row3_col10 {\n",
       "  font-size: 6pt;\n",
       "  background-color: #fafafa;\n",
       "  color: #000000;\n",
       "}\n",
       "#T_d7fee_row3_col8 {\n",
       "  font-size: 6pt;\n",
       "  background-color: #fbfbfb;\n",
       "  color: #000000;\n",
       "}\n",
       "#T_d7fee_row3_col9 {\n",
       "  font-size: 6pt;\n",
       "  background-color: #fdfdfd;\n",
       "  color: #000000;\n",
       "}\n",
       "#T_d7fee_row4_col4 {\n",
       "  font-size: 6pt;\n",
       "  background-color: #1b1b1b;\n",
       "  color: #f1f1f1;\n",
       "}\n",
       "#T_d7fee_row4_col5 {\n",
       "  font-size: 6pt;\n",
       "  background-color: #e0e0e0;\n",
       "  color: #000000;\n",
       "}\n",
       "#T_d7fee_row4_col11 {\n",
       "  font-size: 6pt;\n",
       "  background-color: #4e4e4e;\n",
       "  color: #f1f1f1;\n",
       "}\n",
       "#T_d7fee_row4_col14 {\n",
       "  font-size: 6pt;\n",
       "  background-color: #767676;\n",
       "  color: #f1f1f1;\n",
       "}\n",
       "#T_d7fee_row5_col1 {\n",
       "  font-size: 6pt;\n",
       "  background-color: #fcfcfc;\n",
       "  color: #000000;\n",
       "}\n",
       "#T_d7fee_row5_col2, #T_d7fee_row5_col3 {\n",
       "  font-size: 6pt;\n",
       "  background-color: #f6f6f6;\n",
       "  color: #000000;\n",
       "}\n",
       "#T_d7fee_row5_col4, #T_d7fee_row7_col7 {\n",
       "  font-size: 6pt;\n",
       "  background-color: #f8f8f8;\n",
       "  color: #000000;\n",
       "}\n",
       "#T_d7fee_row5_col10, #T_d7fee_row10_col7 {\n",
       "  font-size: 6pt;\n",
       "  background-color: #e8e8e8;\n",
       "  color: #000000;\n",
       "}\n",
       "#T_d7fee_row5_col11 {\n",
       "  font-size: 6pt;\n",
       "  background-color: #222222;\n",
       "  color: #f1f1f1;\n",
       "}\n",
       "#T_d7fee_row5_col13, #T_d7fee_row6_col12 {\n",
       "  font-size: 6pt;\n",
       "  background-color: #090909;\n",
       "  color: #f1f1f1;\n",
       "}\n",
       "#T_d7fee_row5_col14 {\n",
       "  font-size: 6pt;\n",
       "  background-color: #d0d0d0;\n",
       "  color: #000000;\n",
       "}\n",
       "#T_d7fee_row6_col10, #T_d7fee_row7_col11, #T_d7fee_row9_col6 {\n",
       "  font-size: 6pt;\n",
       "  background-color: #060606;\n",
       "  color: #f1f1f1;\n",
       "}\n",
       "#T_d7fee_row6_col13 {\n",
       "  font-size: 6pt;\n",
       "  background-color: #979797;\n",
       "  color: #f1f1f1;\n",
       "}\n",
       "#T_d7fee_row7_col8 {\n",
       "  font-size: 6pt;\n",
       "  background-color: #b6b6b6;\n",
       "  color: #000000;\n",
       "}\n",
       "#T_d7fee_row7_col9 {\n",
       "  font-size: 6pt;\n",
       "  background-color: #252525;\n",
       "  color: #f1f1f1;\n",
       "}\n",
       "#T_d7fee_row7_col12 {\n",
       "  font-size: 6pt;\n",
       "  background-color: #999999;\n",
       "  color: #f1f1f1;\n",
       "}\n",
       "#T_d7fee_row8_col5 {\n",
       "  font-size: 6pt;\n",
       "  background-color: #f9f9f9;\n",
       "  color: #000000;\n",
       "}\n",
       "#T_d7fee_row8_col7 {\n",
       "  font-size: 6pt;\n",
       "  background-color: #101010;\n",
       "  color: #f1f1f1;\n",
       "}\n",
       "#T_d7fee_row8_col9, #T_d7fee_row9_col9 {\n",
       "  font-size: 6pt;\n",
       "  background-color: #020202;\n",
       "  color: #f1f1f1;\n",
       "}\n",
       "#T_d7fee_row8_col11 {\n",
       "  font-size: 6pt;\n",
       "  background-color: #545454;\n",
       "  color: #f1f1f1;\n",
       "}\n",
       "#T_d7fee_row8_col12 {\n",
       "  font-size: 6pt;\n",
       "  background-color: #f1f1f1;\n",
       "  color: #000000;\n",
       "}\n",
       "#T_d7fee_row9_col5 {\n",
       "  font-size: 6pt;\n",
       "  background-color: #f7f7f7;\n",
       "  color: #000000;\n",
       "}\n",
       "#T_d7fee_row9_col7 {\n",
       "  font-size: 6pt;\n",
       "  background-color: #030303;\n",
       "  color: #f1f1f1;\n",
       "}\n",
       "#T_d7fee_row9_col12 {\n",
       "  font-size: 6pt;\n",
       "  background-color: #181818;\n",
       "  color: #f1f1f1;\n",
       "}\n",
       "#T_d7fee_row9_col13 {\n",
       "  font-size: 6pt;\n",
       "  background-color: #303030;\n",
       "  color: #f1f1f1;\n",
       "}\n",
       "#T_d7fee_row9_col14 {\n",
       "  font-size: 6pt;\n",
       "  background-color: #a9a9a9;\n",
       "  color: #f1f1f1;\n",
       "}\n",
       "#T_d7fee_row9_col15 {\n",
       "  font-size: 6pt;\n",
       "  background-color: #fefefe;\n",
       "  color: #000000;\n",
       "}\n",
       "#T_d7fee_row10_col8, #T_d7fee_row10_col9 {\n",
       "  font-size: 6pt;\n",
       "  background-color: #bababa;\n",
       "  color: #000000;\n",
       "}\n",
       "#T_d7fee_row10_col10 {\n",
       "  font-size: 6pt;\n",
       "  background-color: #393939;\n",
       "  color: #f1f1f1;\n",
       "}\n",
       "</style>\n",
       "<table id=\"T_d7fee\">\n",
       "  <thead>\n",
       "    <tr>\n",
       "      <th class=\"blank level0\" >&nbsp;</th>\n",
       "      <th id=\"T_d7fee_level0_col0\" class=\"col_heading level0 col0\" >0</th>\n",
       "      <th id=\"T_d7fee_level0_col1\" class=\"col_heading level0 col1\" >1</th>\n",
       "      <th id=\"T_d7fee_level0_col2\" class=\"col_heading level0 col2\" >2</th>\n",
       "      <th id=\"T_d7fee_level0_col3\" class=\"col_heading level0 col3\" >3</th>\n",
       "      <th id=\"T_d7fee_level0_col4\" class=\"col_heading level0 col4\" >4</th>\n",
       "      <th id=\"T_d7fee_level0_col5\" class=\"col_heading level0 col5\" >5</th>\n",
       "      <th id=\"T_d7fee_level0_col6\" class=\"col_heading level0 col6\" >6</th>\n",
       "      <th id=\"T_d7fee_level0_col7\" class=\"col_heading level0 col7\" >7</th>\n",
       "      <th id=\"T_d7fee_level0_col8\" class=\"col_heading level0 col8\" >8</th>\n",
       "      <th id=\"T_d7fee_level0_col9\" class=\"col_heading level0 col9\" >9</th>\n",
       "      <th id=\"T_d7fee_level0_col10\" class=\"col_heading level0 col10\" >10</th>\n",
       "      <th id=\"T_d7fee_level0_col11\" class=\"col_heading level0 col11\" >11</th>\n",
       "      <th id=\"T_d7fee_level0_col12\" class=\"col_heading level0 col12\" >12</th>\n",
       "      <th id=\"T_d7fee_level0_col13\" class=\"col_heading level0 col13\" >13</th>\n",
       "      <th id=\"T_d7fee_level0_col14\" class=\"col_heading level0 col14\" >14</th>\n",
       "      <th id=\"T_d7fee_level0_col15\" class=\"col_heading level0 col15\" >15</th>\n",
       "      <th id=\"T_d7fee_level0_col16\" class=\"col_heading level0 col16\" >16</th>\n",
       "      <th id=\"T_d7fee_level0_col17\" class=\"col_heading level0 col17\" >17</th>\n",
       "    </tr>\n",
       "  </thead>\n",
       "  <tbody>\n",
       "    <tr>\n",
       "      <th id=\"T_d7fee_level0_row0\" class=\"row_heading level0 row0\" >0</th>\n",
       "      <td id=\"T_d7fee_row0_col0\" class=\"data row0 col0\" >0</td>\n",
       "      <td id=\"T_d7fee_row0_col1\" class=\"data row0 col1\" >0</td>\n",
       "      <td id=\"T_d7fee_row0_col2\" class=\"data row0 col2\" >0</td>\n",
       "      <td id=\"T_d7fee_row0_col3\" class=\"data row0 col3\" >0</td>\n",
       "      <td id=\"T_d7fee_row0_col4\" class=\"data row0 col4\" >0</td>\n",
       "      <td id=\"T_d7fee_row0_col5\" class=\"data row0 col5\" >0</td>\n",
       "      <td id=\"T_d7fee_row0_col6\" class=\"data row0 col6\" >0</td>\n",
       "      <td id=\"T_d7fee_row0_col7\" class=\"data row0 col7\" >0</td>\n",
       "      <td id=\"T_d7fee_row0_col8\" class=\"data row0 col8\" >0</td>\n",
       "      <td id=\"T_d7fee_row0_col9\" class=\"data row0 col9\" >0</td>\n",
       "      <td id=\"T_d7fee_row0_col10\" class=\"data row0 col10\" >0</td>\n",
       "      <td id=\"T_d7fee_row0_col11\" class=\"data row0 col11\" >0</td>\n",
       "      <td id=\"T_d7fee_row0_col12\" class=\"data row0 col12\" >0</td>\n",
       "      <td id=\"T_d7fee_row0_col13\" class=\"data row0 col13\" >0</td>\n",
       "      <td id=\"T_d7fee_row0_col14\" class=\"data row0 col14\" >0</td>\n",
       "      <td id=\"T_d7fee_row0_col15\" class=\"data row0 col15\" >0</td>\n",
       "      <td id=\"T_d7fee_row0_col16\" class=\"data row0 col16\" >0</td>\n",
       "      <td id=\"T_d7fee_row0_col17\" class=\"data row0 col17\" >0</td>\n",
       "    </tr>\n",
       "    <tr>\n",
       "      <th id=\"T_d7fee_level0_row1\" class=\"row_heading level0 row1\" >1</th>\n",
       "      <td id=\"T_d7fee_row1_col0\" class=\"data row1 col0\" >0</td>\n",
       "      <td id=\"T_d7fee_row1_col1\" class=\"data row1 col1\" >0</td>\n",
       "      <td id=\"T_d7fee_row1_col2\" class=\"data row1 col2\" >0</td>\n",
       "      <td id=\"T_d7fee_row1_col3\" class=\"data row1 col3\" >0</td>\n",
       "      <td id=\"T_d7fee_row1_col4\" class=\"data row1 col4\" >0</td>\n",
       "      <td id=\"T_d7fee_row1_col5\" class=\"data row1 col5\" >29</td>\n",
       "      <td id=\"T_d7fee_row1_col6\" class=\"data row1 col6\" >150</td>\n",
       "      <td id=\"T_d7fee_row1_col7\" class=\"data row1 col7\" >195</td>\n",
       "      <td id=\"T_d7fee_row1_col8\" class=\"data row1 col8\" >254</td>\n",
       "      <td id=\"T_d7fee_row1_col9\" class=\"data row1 col9\" >255</td>\n",
       "      <td id=\"T_d7fee_row1_col10\" class=\"data row1 col10\" >254</td>\n",
       "      <td id=\"T_d7fee_row1_col11\" class=\"data row1 col11\" >176</td>\n",
       "      <td id=\"T_d7fee_row1_col12\" class=\"data row1 col12\" >193</td>\n",
       "      <td id=\"T_d7fee_row1_col13\" class=\"data row1 col13\" >150</td>\n",
       "      <td id=\"T_d7fee_row1_col14\" class=\"data row1 col14\" >96</td>\n",
       "      <td id=\"T_d7fee_row1_col15\" class=\"data row1 col15\" >0</td>\n",
       "      <td id=\"T_d7fee_row1_col16\" class=\"data row1 col16\" >0</td>\n",
       "      <td id=\"T_d7fee_row1_col17\" class=\"data row1 col17\" >0</td>\n",
       "    </tr>\n",
       "    <tr>\n",
       "      <th id=\"T_d7fee_level0_row2\" class=\"row_heading level0 row2\" >2</th>\n",
       "      <td id=\"T_d7fee_row2_col0\" class=\"data row2 col0\" >0</td>\n",
       "      <td id=\"T_d7fee_row2_col1\" class=\"data row2 col1\" >0</td>\n",
       "      <td id=\"T_d7fee_row2_col2\" class=\"data row2 col2\" >0</td>\n",
       "      <td id=\"T_d7fee_row2_col3\" class=\"data row2 col3\" >48</td>\n",
       "      <td id=\"T_d7fee_row2_col4\" class=\"data row2 col4\" >166</td>\n",
       "      <td id=\"T_d7fee_row2_col5\" class=\"data row2 col5\" >224</td>\n",
       "      <td id=\"T_d7fee_row2_col6\" class=\"data row2 col6\" >253</td>\n",
       "      <td id=\"T_d7fee_row2_col7\" class=\"data row2 col7\" >253</td>\n",
       "      <td id=\"T_d7fee_row2_col8\" class=\"data row2 col8\" >234</td>\n",
       "      <td id=\"T_d7fee_row2_col9\" class=\"data row2 col9\" >196</td>\n",
       "      <td id=\"T_d7fee_row2_col10\" class=\"data row2 col10\" >253</td>\n",
       "      <td id=\"T_d7fee_row2_col11\" class=\"data row2 col11\" >253</td>\n",
       "      <td id=\"T_d7fee_row2_col12\" class=\"data row2 col12\" >253</td>\n",
       "      <td id=\"T_d7fee_row2_col13\" class=\"data row2 col13\" >253</td>\n",
       "      <td id=\"T_d7fee_row2_col14\" class=\"data row2 col14\" >233</td>\n",
       "      <td id=\"T_d7fee_row2_col15\" class=\"data row2 col15\" >0</td>\n",
       "      <td id=\"T_d7fee_row2_col16\" class=\"data row2 col16\" >0</td>\n",
       "      <td id=\"T_d7fee_row2_col17\" class=\"data row2 col17\" >0</td>\n",
       "    </tr>\n",
       "    <tr>\n",
       "      <th id=\"T_d7fee_level0_row3\" class=\"row_heading level0 row3\" >3</th>\n",
       "      <td id=\"T_d7fee_row3_col0\" class=\"data row3 col0\" >0</td>\n",
       "      <td id=\"T_d7fee_row3_col1\" class=\"data row3 col1\" >93</td>\n",
       "      <td id=\"T_d7fee_row3_col2\" class=\"data row3 col2\" >244</td>\n",
       "      <td id=\"T_d7fee_row3_col3\" class=\"data row3 col3\" >249</td>\n",
       "      <td id=\"T_d7fee_row3_col4\" class=\"data row3 col4\" >253</td>\n",
       "      <td id=\"T_d7fee_row3_col5\" class=\"data row3 col5\" >187</td>\n",
       "      <td id=\"T_d7fee_row3_col6\" class=\"data row3 col6\" >46</td>\n",
       "      <td id=\"T_d7fee_row3_col7\" class=\"data row3 col7\" >10</td>\n",
       "      <td id=\"T_d7fee_row3_col8\" class=\"data row3 col8\" >8</td>\n",
       "      <td id=\"T_d7fee_row3_col9\" class=\"data row3 col9\" >4</td>\n",
       "      <td id=\"T_d7fee_row3_col10\" class=\"data row3 col10\" >10</td>\n",
       "      <td id=\"T_d7fee_row3_col11\" class=\"data row3 col11\" >194</td>\n",
       "      <td id=\"T_d7fee_row3_col12\" class=\"data row3 col12\" >253</td>\n",
       "      <td id=\"T_d7fee_row3_col13\" class=\"data row3 col13\" >253</td>\n",
       "      <td id=\"T_d7fee_row3_col14\" class=\"data row3 col14\" >233</td>\n",
       "      <td id=\"T_d7fee_row3_col15\" class=\"data row3 col15\" >0</td>\n",
       "      <td id=\"T_d7fee_row3_col16\" class=\"data row3 col16\" >0</td>\n",
       "      <td id=\"T_d7fee_row3_col17\" class=\"data row3 col17\" >0</td>\n",
       "    </tr>\n",
       "    <tr>\n",
       "      <th id=\"T_d7fee_level0_row4\" class=\"row_heading level0 row4\" >4</th>\n",
       "      <td id=\"T_d7fee_row4_col0\" class=\"data row4 col0\" >0</td>\n",
       "      <td id=\"T_d7fee_row4_col1\" class=\"data row4 col1\" >107</td>\n",
       "      <td id=\"T_d7fee_row4_col2\" class=\"data row4 col2\" >253</td>\n",
       "      <td id=\"T_d7fee_row4_col3\" class=\"data row4 col3\" >253</td>\n",
       "      <td id=\"T_d7fee_row4_col4\" class=\"data row4 col4\" >230</td>\n",
       "      <td id=\"T_d7fee_row4_col5\" class=\"data row4 col5\" >48</td>\n",
       "      <td id=\"T_d7fee_row4_col6\" class=\"data row4 col6\" >0</td>\n",
       "      <td id=\"T_d7fee_row4_col7\" class=\"data row4 col7\" >0</td>\n",
       "      <td id=\"T_d7fee_row4_col8\" class=\"data row4 col8\" >0</td>\n",
       "      <td id=\"T_d7fee_row4_col9\" class=\"data row4 col9\" >0</td>\n",
       "      <td id=\"T_d7fee_row4_col10\" class=\"data row4 col10\" >0</td>\n",
       "      <td id=\"T_d7fee_row4_col11\" class=\"data row4 col11\" >192</td>\n",
       "      <td id=\"T_d7fee_row4_col12\" class=\"data row4 col12\" >253</td>\n",
       "      <td id=\"T_d7fee_row4_col13\" class=\"data row4 col13\" >253</td>\n",
       "      <td id=\"T_d7fee_row4_col14\" class=\"data row4 col14\" >156</td>\n",
       "      <td id=\"T_d7fee_row4_col15\" class=\"data row4 col15\" >0</td>\n",
       "      <td id=\"T_d7fee_row4_col16\" class=\"data row4 col16\" >0</td>\n",
       "      <td id=\"T_d7fee_row4_col17\" class=\"data row4 col17\" >0</td>\n",
       "    </tr>\n",
       "    <tr>\n",
       "      <th id=\"T_d7fee_level0_row5\" class=\"row_heading level0 row5\" >5</th>\n",
       "      <td id=\"T_d7fee_row5_col0\" class=\"data row5 col0\" >0</td>\n",
       "      <td id=\"T_d7fee_row5_col1\" class=\"data row5 col1\" >3</td>\n",
       "      <td id=\"T_d7fee_row5_col2\" class=\"data row5 col2\" >20</td>\n",
       "      <td id=\"T_d7fee_row5_col3\" class=\"data row5 col3\" >20</td>\n",
       "      <td id=\"T_d7fee_row5_col4\" class=\"data row5 col4\" >15</td>\n",
       "      <td id=\"T_d7fee_row5_col5\" class=\"data row5 col5\" >0</td>\n",
       "      <td id=\"T_d7fee_row5_col6\" class=\"data row5 col6\" >0</td>\n",
       "      <td id=\"T_d7fee_row5_col7\" class=\"data row5 col7\" >0</td>\n",
       "      <td id=\"T_d7fee_row5_col8\" class=\"data row5 col8\" >0</td>\n",
       "      <td id=\"T_d7fee_row5_col9\" class=\"data row5 col9\" >0</td>\n",
       "      <td id=\"T_d7fee_row5_col10\" class=\"data row5 col10\" >43</td>\n",
       "      <td id=\"T_d7fee_row5_col11\" class=\"data row5 col11\" >224</td>\n",
       "      <td id=\"T_d7fee_row5_col12\" class=\"data row5 col12\" >253</td>\n",
       "      <td id=\"T_d7fee_row5_col13\" class=\"data row5 col13\" >245</td>\n",
       "      <td id=\"T_d7fee_row5_col14\" class=\"data row5 col14\" >74</td>\n",
       "      <td id=\"T_d7fee_row5_col15\" class=\"data row5 col15\" >0</td>\n",
       "      <td id=\"T_d7fee_row5_col16\" class=\"data row5 col16\" >0</td>\n",
       "      <td id=\"T_d7fee_row5_col17\" class=\"data row5 col17\" >0</td>\n",
       "    </tr>\n",
       "    <tr>\n",
       "      <th id=\"T_d7fee_level0_row6\" class=\"row_heading level0 row6\" >6</th>\n",
       "      <td id=\"T_d7fee_row6_col0\" class=\"data row6 col0\" >0</td>\n",
       "      <td id=\"T_d7fee_row6_col1\" class=\"data row6 col1\" >0</td>\n",
       "      <td id=\"T_d7fee_row6_col2\" class=\"data row6 col2\" >0</td>\n",
       "      <td id=\"T_d7fee_row6_col3\" class=\"data row6 col3\" >0</td>\n",
       "      <td id=\"T_d7fee_row6_col4\" class=\"data row6 col4\" >0</td>\n",
       "      <td id=\"T_d7fee_row6_col5\" class=\"data row6 col5\" >0</td>\n",
       "      <td id=\"T_d7fee_row6_col6\" class=\"data row6 col6\" >0</td>\n",
       "      <td id=\"T_d7fee_row6_col7\" class=\"data row6 col7\" >0</td>\n",
       "      <td id=\"T_d7fee_row6_col8\" class=\"data row6 col8\" >0</td>\n",
       "      <td id=\"T_d7fee_row6_col9\" class=\"data row6 col9\" >0</td>\n",
       "      <td id=\"T_d7fee_row6_col10\" class=\"data row6 col10\" >249</td>\n",
       "      <td id=\"T_d7fee_row6_col11\" class=\"data row6 col11\" >253</td>\n",
       "      <td id=\"T_d7fee_row6_col12\" class=\"data row6 col12\" >245</td>\n",
       "      <td id=\"T_d7fee_row6_col13\" class=\"data row6 col13\" >126</td>\n",
       "      <td id=\"T_d7fee_row6_col14\" class=\"data row6 col14\" >0</td>\n",
       "      <td id=\"T_d7fee_row6_col15\" class=\"data row6 col15\" >0</td>\n",
       "      <td id=\"T_d7fee_row6_col16\" class=\"data row6 col16\" >0</td>\n",
       "      <td id=\"T_d7fee_row6_col17\" class=\"data row6 col17\" >0</td>\n",
       "    </tr>\n",
       "    <tr>\n",
       "      <th id=\"T_d7fee_level0_row7\" class=\"row_heading level0 row7\" >7</th>\n",
       "      <td id=\"T_d7fee_row7_col0\" class=\"data row7 col0\" >0</td>\n",
       "      <td id=\"T_d7fee_row7_col1\" class=\"data row7 col1\" >0</td>\n",
       "      <td id=\"T_d7fee_row7_col2\" class=\"data row7 col2\" >0</td>\n",
       "      <td id=\"T_d7fee_row7_col3\" class=\"data row7 col3\" >0</td>\n",
       "      <td id=\"T_d7fee_row7_col4\" class=\"data row7 col4\" >0</td>\n",
       "      <td id=\"T_d7fee_row7_col5\" class=\"data row7 col5\" >0</td>\n",
       "      <td id=\"T_d7fee_row7_col6\" class=\"data row7 col6\" >0</td>\n",
       "      <td id=\"T_d7fee_row7_col7\" class=\"data row7 col7\" >14</td>\n",
       "      <td id=\"T_d7fee_row7_col8\" class=\"data row7 col8\" >101</td>\n",
       "      <td id=\"T_d7fee_row7_col9\" class=\"data row7 col9\" >223</td>\n",
       "      <td id=\"T_d7fee_row7_col10\" class=\"data row7 col10\" >253</td>\n",
       "      <td id=\"T_d7fee_row7_col11\" class=\"data row7 col11\" >248</td>\n",
       "      <td id=\"T_d7fee_row7_col12\" class=\"data row7 col12\" >124</td>\n",
       "      <td id=\"T_d7fee_row7_col13\" class=\"data row7 col13\" >0</td>\n",
       "      <td id=\"T_d7fee_row7_col14\" class=\"data row7 col14\" >0</td>\n",
       "      <td id=\"T_d7fee_row7_col15\" class=\"data row7 col15\" >0</td>\n",
       "      <td id=\"T_d7fee_row7_col16\" class=\"data row7 col16\" >0</td>\n",
       "      <td id=\"T_d7fee_row7_col17\" class=\"data row7 col17\" >0</td>\n",
       "    </tr>\n",
       "    <tr>\n",
       "      <th id=\"T_d7fee_level0_row8\" class=\"row_heading level0 row8\" >8</th>\n",
       "      <td id=\"T_d7fee_row8_col0\" class=\"data row8 col0\" >0</td>\n",
       "      <td id=\"T_d7fee_row8_col1\" class=\"data row8 col1\" >0</td>\n",
       "      <td id=\"T_d7fee_row8_col2\" class=\"data row8 col2\" >0</td>\n",
       "      <td id=\"T_d7fee_row8_col3\" class=\"data row8 col3\" >0</td>\n",
       "      <td id=\"T_d7fee_row8_col4\" class=\"data row8 col4\" >0</td>\n",
       "      <td id=\"T_d7fee_row8_col5\" class=\"data row8 col5\" >11</td>\n",
       "      <td id=\"T_d7fee_row8_col6\" class=\"data row8 col6\" >166</td>\n",
       "      <td id=\"T_d7fee_row8_col7\" class=\"data row8 col7\" >239</td>\n",
       "      <td id=\"T_d7fee_row8_col8\" class=\"data row8 col8\" >253</td>\n",
       "      <td id=\"T_d7fee_row8_col9\" class=\"data row8 col9\" >253</td>\n",
       "      <td id=\"T_d7fee_row8_col10\" class=\"data row8 col10\" >253</td>\n",
       "      <td id=\"T_d7fee_row8_col11\" class=\"data row8 col11\" >187</td>\n",
       "      <td id=\"T_d7fee_row8_col12\" class=\"data row8 col12\" >30</td>\n",
       "      <td id=\"T_d7fee_row8_col13\" class=\"data row8 col13\" >0</td>\n",
       "      <td id=\"T_d7fee_row8_col14\" class=\"data row8 col14\" >0</td>\n",
       "      <td id=\"T_d7fee_row8_col15\" class=\"data row8 col15\" >0</td>\n",
       "      <td id=\"T_d7fee_row8_col16\" class=\"data row8 col16\" >0</td>\n",
       "      <td id=\"T_d7fee_row8_col17\" class=\"data row8 col17\" >0</td>\n",
       "    </tr>\n",
       "    <tr>\n",
       "      <th id=\"T_d7fee_level0_row9\" class=\"row_heading level0 row9\" >9</th>\n",
       "      <td id=\"T_d7fee_row9_col0\" class=\"data row9 col0\" >0</td>\n",
       "      <td id=\"T_d7fee_row9_col1\" class=\"data row9 col1\" >0</td>\n",
       "      <td id=\"T_d7fee_row9_col2\" class=\"data row9 col2\" >0</td>\n",
       "      <td id=\"T_d7fee_row9_col3\" class=\"data row9 col3\" >0</td>\n",
       "      <td id=\"T_d7fee_row9_col4\" class=\"data row9 col4\" >0</td>\n",
       "      <td id=\"T_d7fee_row9_col5\" class=\"data row9 col5\" >16</td>\n",
       "      <td id=\"T_d7fee_row9_col6\" class=\"data row9 col6\" >248</td>\n",
       "      <td id=\"T_d7fee_row9_col7\" class=\"data row9 col7\" >250</td>\n",
       "      <td id=\"T_d7fee_row9_col8\" class=\"data row9 col8\" >253</td>\n",
       "      <td id=\"T_d7fee_row9_col9\" class=\"data row9 col9\" >253</td>\n",
       "      <td id=\"T_d7fee_row9_col10\" class=\"data row9 col10\" >253</td>\n",
       "      <td id=\"T_d7fee_row9_col11\" class=\"data row9 col11\" >253</td>\n",
       "      <td id=\"T_d7fee_row9_col12\" class=\"data row9 col12\" >232</td>\n",
       "      <td id=\"T_d7fee_row9_col13\" class=\"data row9 col13\" >213</td>\n",
       "      <td id=\"T_d7fee_row9_col14\" class=\"data row9 col14\" >111</td>\n",
       "      <td id=\"T_d7fee_row9_col15\" class=\"data row9 col15\" >2</td>\n",
       "      <td id=\"T_d7fee_row9_col16\" class=\"data row9 col16\" >0</td>\n",
       "      <td id=\"T_d7fee_row9_col17\" class=\"data row9 col17\" >0</td>\n",
       "    </tr>\n",
       "    <tr>\n",
       "      <th id=\"T_d7fee_level0_row10\" class=\"row_heading level0 row10\" >10</th>\n",
       "      <td id=\"T_d7fee_row10_col0\" class=\"data row10 col0\" >0</td>\n",
       "      <td id=\"T_d7fee_row10_col1\" class=\"data row10 col1\" >0</td>\n",
       "      <td id=\"T_d7fee_row10_col2\" class=\"data row10 col2\" >0</td>\n",
       "      <td id=\"T_d7fee_row10_col3\" class=\"data row10 col3\" >0</td>\n",
       "      <td id=\"T_d7fee_row10_col4\" class=\"data row10 col4\" >0</td>\n",
       "      <td id=\"T_d7fee_row10_col5\" class=\"data row10 col5\" >0</td>\n",
       "      <td id=\"T_d7fee_row10_col6\" class=\"data row10 col6\" >0</td>\n",
       "      <td id=\"T_d7fee_row10_col7\" class=\"data row10 col7\" >43</td>\n",
       "      <td id=\"T_d7fee_row10_col8\" class=\"data row10 col8\" >98</td>\n",
       "      <td id=\"T_d7fee_row10_col9\" class=\"data row10 col9\" >98</td>\n",
       "      <td id=\"T_d7fee_row10_col10\" class=\"data row10 col10\" >208</td>\n",
       "      <td id=\"T_d7fee_row10_col11\" class=\"data row10 col11\" >253</td>\n",
       "      <td id=\"T_d7fee_row10_col12\" class=\"data row10 col12\" >253</td>\n",
       "      <td id=\"T_d7fee_row10_col13\" class=\"data row10 col13\" >253</td>\n",
       "      <td id=\"T_d7fee_row10_col14\" class=\"data row10 col14\" >253</td>\n",
       "      <td id=\"T_d7fee_row10_col15\" class=\"data row10 col15\" >187</td>\n",
       "      <td id=\"T_d7fee_row10_col16\" class=\"data row10 col16\" >22</td>\n",
       "      <td id=\"T_d7fee_row10_col17\" class=\"data row10 col17\" >0</td>\n",
       "    </tr>\n",
       "  </tbody>\n",
       "</table>\n"
      ],
      "text/plain": [
       "<pandas.io.formats.style.Styler at 0x1ff7f8e4250>"
      ]
     },
     "execution_count": 4,
     "metadata": {},
     "output_type": "execute_result"
    }
   ],
   "source": [
    "from pandas import DataFrame\n",
    "\n",
    "im3_t = tensor(im3)\n",
    "df = DataFrame(im3_t[4:15, 4:22])\n",
    "df.style.set_properties(**{'font-size':'6pt'}).background_gradient('Greys')"
   ]
  },
  {
   "cell_type": "code",
   "execution_count": 5,
   "metadata": {},
   "outputs": [
    {
     "data": {
      "text/plain": [
       "(6131, 6265)"
      ]
     },
     "execution_count": 5,
     "metadata": {},
     "output_type": "execute_result"
    }
   ],
   "source": [
    "seven_tensors = [tensor(Image.open(o)) for o in sevens]\n",
    "three_tensors = [tensor(Image.open(o)) for o in threes]\n",
    "len(three_tensors),len(seven_tensors)"
   ]
  },
  {
   "cell_type": "code",
   "execution_count": 6,
   "metadata": {},
   "outputs": [
    {
     "data": {
      "text/plain": [
       "<AxesSubplot:>"
      ]
     },
     "execution_count": 6,
     "metadata": {},
     "output_type": "execute_result"
    },
    {
     "data": {
      "image/png": "[encoded data removed]",
      "text/plain": [
       "<Figure size 100x100 with 1 Axes>"
      ]
     },
     "metadata": {},
     "output_type": "display_data"
    }
   ],
   "source": [
    "show_image(tensor(three_tensors[1]))"
   ]
  },
  {
   "cell_type": "code",
   "execution_count": 7,
   "metadata": {},
   "outputs": [
    {
     "data": {
      "text/plain": [
       "torch.Size([6131, 28, 28])"
      ]
     },
     "execution_count": 7,
     "metadata": {},
     "output_type": "execute_result"
    }
   ],
   "source": [
    "stacked_sevens = torch.stack(seven_tensors).float()/255\n",
    "stacked_threes = torch.stack(three_tensors).float()/255\n",
    "stacked_threes.shape"
   ]
  },
  {
   "cell_type": "markdown",
   "metadata": {},
   "source": [
    ".stack takes in a list of tensors and combines them into a single tensor (in this case) with 6131 items, and a 28 x 28 array of values for each pixel. The division by 255 is because generally you want values between 0 and 1 and 255 is the max value (making 255 / 255 = 1)"
   ]
  },
  {
   "cell_type": "markdown",
   "metadata": {},
   "source": [
    "mean3 = mean of all pixels within 3s training data"
   ]
  },
  {
   "cell_type": "code",
   "execution_count": 8,
   "metadata": {},
   "outputs": [
    {
     "data": {
      "text/plain": [
       "<AxesSubplot:>"
      ]
     },
     "execution_count": 8,
     "metadata": {},
     "output_type": "execute_result"
    },
    {
     "data": {
      "image/png": "[encoded data removed]",
      "text/plain": [
       "<Figure size 100x100 with 1 Axes>"
      ]
     },
     "metadata": {},
     "output_type": "display_data"
    }
   ],
   "source": [
    "mean3 = stacked_threes.mean(0)\n",
    "show_image(mean3)"
   ]
  },
  {
   "cell_type": "markdown",
   "metadata": {},
   "source": [
    "mean7 = mean of all pixels within 7s training data"
   ]
  },
  {
   "cell_type": "code",
   "execution_count": 9,
   "metadata": {},
   "outputs": [
    {
     "data": {
      "text/plain": [
       "<AxesSubplot:>"
      ]
     },
     "execution_count": 9,
     "metadata": {},
     "output_type": "execute_result"
    },
    {
     "data": {
      "image/png": "[encoded data removed]",
      "text/plain": [
       "<Figure size 100x100 with 1 Axes>"
      ]
     },
     "metadata": {},
     "output_type": "display_data"
    }
   ],
   "source": [
    "mean7 = stacked_sevens.mean(0)\n",
    "show_image(mean7)"
   ]
  },
  {
   "cell_type": "code",
   "execution_count": 10,
   "metadata": {},
   "outputs": [
    {
     "data": {
      "text/plain": [
       "(tensor(0.1114), tensor(0.2021))"
      ]
     },
     "execution_count": 10,
     "metadata": {},
     "output_type": "execute_result"
    }
   ],
   "source": [
    "a_3 = stacked_threes[1]\n",
    "\n",
    "dist_3_abs = (a_3 - mean3).abs().mean()\n",
    "dist_3_sqr = ((a_3 - mean3) ** 2).mean().sqrt()\n",
    "dist_3_abs, dist_3_sqr"
   ]
  },
  {
   "cell_type": "code",
   "execution_count": 11,
   "metadata": {},
   "outputs": [
    {
     "data": {
      "text/plain": [
       "(tensor(0.1586), tensor(0.3021))"
      ]
     },
     "execution_count": 11,
     "metadata": {},
     "output_type": "execute_result"
    }
   ],
   "source": [
    "dist_7_abs = (a_3 - mean7).abs().mean()\n",
    "dist_7_sqr = ((a_3 - mean7) ** 2).mean().sqrt()\n",
    "dist_7_abs, dist_7_sqr"
   ]
  },
  {
   "cell_type": "code",
   "execution_count": 12,
   "metadata": {},
   "outputs": [
    {
     "data": {
      "text/plain": [
       "(tensor(0.1586), tensor(0.3021))"
      ]
     },
     "execution_count": 12,
     "metadata": {},
     "output_type": "execute_result"
    }
   ],
   "source": [
    "F.l1_loss(a_3.float(), mean7), F.mse_loss(a_3, mean7).sqrt()"
   ]
  },
  {
   "cell_type": "code",
   "execution_count": 13,
   "metadata": {},
   "outputs": [
    {
     "data": {
      "text/plain": [
       "(torch.Size([1010, 28, 28]), torch.Size([1028, 28, 28]))"
      ]
     },
     "execution_count": 13,
     "metadata": {},
     "output_type": "execute_result"
    }
   ],
   "source": [
    "valid_3_tens = torch.stack([tensor(Image.open(o)) for o in (path.parent/'valid'/'3').ls()])\n",
    "valid_3_tens = valid_3_tens.float()/255\n",
    "\n",
    "valid_7_tens = torch.stack([tensor(Image.open(o)) for o in (path.parent/'valid'/'7').ls()])\n",
    "valid_7_tens = valid_7_tens.float()/255\n",
    "\n",
    "valid_3_tens.shape, valid_7_tens.shape"
   ]
  },
  {
   "cell_type": "markdown",
   "metadata": {},
   "source": [
    ".mean((-1,-2)) is to take the mean of the last element (-1) and second-to-last element (-2) or in this case, the pixel values"
   ]
  },
  {
   "cell_type": "code",
   "execution_count": 14,
   "metadata": {},
   "outputs": [
    {
     "data": {
      "text/plain": [
       "tensor(0.1114)"
      ]
     },
     "execution_count": 14,
     "metadata": {},
     "output_type": "execute_result"
    }
   ],
   "source": [
    "def mnist_distance(a,b) : return (a-b).abs().mean((-1,-2))\n",
    "mnist_distance(a_3, mean3)"
   ]
  },
  {
   "cell_type": "code",
   "execution_count": 15,
   "metadata": {},
   "outputs": [
    {
     "data": {
      "text/plain": [
       "(tensor([0.1280, 0.1623, 0.1242,  ..., 0.1508, 0.1263, 0.1260]),\n",
       " torch.Size([1010]))"
      ]
     },
     "execution_count": 15,
     "metadata": {},
     "output_type": "execute_result"
    }
   ],
   "source": [
    "valid_3_dist = mnist_distance(valid_3_tens, mean3)\n",
    "valid_3_dist, valid_3_dist.shape"
   ]
  },
  {
   "cell_type": "markdown",
   "metadata": {},
   "source": [
    "We're able to run the mnist_distance on a tensor with many images because in the end it's just matrix multiplication"
   ]
  },
  {
   "cell_type": "code",
   "execution_count": 16,
   "metadata": {},
   "outputs": [
    {
     "data": {
      "text/plain": [
       "torch.Size([1010, 28, 28])"
      ]
     },
     "execution_count": 16,
     "metadata": {},
     "output_type": "execute_result"
    }
   ],
   "source": [
    "(valid_3_tens - mean3).shape"
   ]
  },
  {
   "cell_type": "markdown",
   "metadata": {},
   "source": [
    "In the following we show how in a 3 x 1 x 1 (imagine 3 single pixel values) can have a single value (5) removed from them to turn 3 values of 10, 15, 20 into 5, 10, 15"
   ]
  },
  {
   "cell_type": "code",
   "execution_count": 17,
   "metadata": {},
   "outputs": [
    {
     "data": {
      "text/plain": [
       "(torch.Size([3, 1, 1]),\n",
       " torch.Size([1, 1]),\n",
       " torch.Size([3, 1, 1]),\n",
       " tensor([[[ 5]],\n",
       " \n",
       "         [[10]],\n",
       " \n",
       "         [[15]]]))"
      ]
     },
     "execution_count": 17,
     "metadata": {},
     "output_type": "execute_result"
    }
   ],
   "source": [
    "full = tensor([[[10]], [[15]], [[20]]])\n",
    "sub = tensor([[5]])\n",
    "diff = full - sub\n",
    "\n",
    "full.shape,sub.shape,diff.shape, diff"
   ]
  },
  {
   "cell_type": "markdown",
   "metadata": {},
   "source": [
    "We can make a test now checking if the distance is less for a 3 then it's a 3"
   ]
  },
  {
   "cell_type": "code",
   "execution_count": 18,
   "metadata": {},
   "outputs": [
    {
     "data": {
      "text/plain": [
       "(tensor(True), tensor(1.))"
      ]
     },
     "execution_count": 18,
     "metadata": {},
     "output_type": "execute_result"
    }
   ],
   "source": [
    "def is_3(x): return mnist_distance(x,mean3) < mnist_distance(x, mean7)\n",
    "\n",
    "is_3(a_3), is_3(a_3).float()"
   ]
  },
  {
   "cell_type": "markdown",
   "metadata": {},
   "source": [
    "Can check all 3s"
   ]
  },
  {
   "cell_type": "code",
   "execution_count": 19,
   "metadata": {},
   "outputs": [
    {
     "data": {
      "text/plain": [
       "tensor([ True,  True,  True,  ..., False,  True,  True])"
      ]
     },
     "execution_count": 19,
     "metadata": {},
     "output_type": "execute_result"
    }
   ],
   "source": [
    "is_3(valid_3_tens)"
   ]
  },
  {
   "cell_type": "code",
   "execution_count": 20,
   "metadata": {},
   "outputs": [
    {
     "data": {
      "text/plain": [
       "(tensor(0.9168), tensor(0.9854), tensor(0.9511))"
      ]
     },
     "execution_count": 20,
     "metadata": {},
     "output_type": "execute_result"
    }
   ],
   "source": [
    "accuracy_3s = is_3(valid_3_tens).float().mean()\n",
    "accuracy_7s = (1 - is_3(valid_7_tens).float()).mean()\n",
    "\n",
    "accuracy_3s, accuracy_7s, (accuracy_3s+accuracy_7s)/2"
   ]
  },
  {
   "cell_type": "code",
   "execution_count": 21,
   "metadata": {},
   "outputs": [],
   "source": [
    "train_x = torch.cat([stacked_threes, stacked_sevens]).view(-1, 28*28)"
   ]
  },
  {
   "cell_type": "code",
   "execution_count": 22,
   "metadata": {},
   "outputs": [
    {
     "data": {
      "text/plain": [
       "(torch.Size([12396, 784]), torch.Size([12396, 1]))"
      ]
     },
     "execution_count": 22,
     "metadata": {},
     "output_type": "execute_result"
    }
   ],
   "source": [
    "train_y = tensor([1]*len(threes) + [0]*len(sevens)).unsqueeze(1)\n",
    "train_x.shape, train_y.shape"
   ]
  },
  {
   "cell_type": "code",
   "execution_count": 23,
   "metadata": {},
   "outputs": [
    {
     "data": {
      "text/plain": [
       "(torch.Size([784]), tensor([1]))"
      ]
     },
     "execution_count": 23,
     "metadata": {},
     "output_type": "execute_result"
    }
   ],
   "source": [
    "dset = list(zip(train_x, train_y))\n",
    "x,y = dset[0]\n",
    "x.shape,y"
   ]
  },
  {
   "cell_type": "code",
   "execution_count": 25,
   "metadata": {},
   "outputs": [
    {
     "data": {
      "text/plain": [
       "tensor([[ 1.7569e-01],\n",
       "        [-2.9751e-01],\n",
       "        [ 1.0439e+00],\n",
       "        [-9.7557e-01],\n",
       "        [-3.7370e-01],\n",
       "        [-8.6504e-01],\n",
       "        [-5.3123e-01],\n",
       "        [-8.8697e-02],\n",
       "        [ 4.0133e-01],\n",
       "        [ 8.9362e-01],\n",
       "        [ 1.5387e+00],\n",
       "        [ 1.1125e+00],\n",
       "        [ 3.3762e-01],\n",
       "        [ 8.0295e-01],\n",
       "        [-7.5261e-02],\n",
       "        [ 5.9797e-01],\n",
       "        [ 4.6176e-01],\n",
       "        [ 1.4626e-01],\n",
       "        [ 2.6454e-01],\n",
       "        [ 9.1106e-01],\n",
       "        [-2.9753e-01],\n",
       "        [-1.6315e+00],\n",
       "        [-3.9199e-01],\n",
       "        [-4.5618e-01],\n",
       "        [ 2.3560e+00],\n",
       "        [-7.2045e-01],\n",
       "        [ 1.6028e+00],\n",
       "        [ 9.3995e-01],\n",
       "        [-1.7200e-01],\n",
       "        [-6.1906e-01],\n",
       "        [-1.0928e+00],\n",
       "        [ 1.8990e-02],\n",
       "        [ 1.0396e-01],\n",
       "        [-2.3245e+00],\n",
       "        [ 3.3190e-01],\n",
       "        [-1.0236e+00],\n",
       "        [ 3.0728e-02],\n",
       "        [-1.3003e+00],\n",
       "        [ 7.8492e-01],\n",
       "        [ 6.4617e-01],\n",
       "        [-7.6329e-01],\n",
       "        [ 6.8238e-02],\n",
       "        [-7.1792e-01],\n",
       "        [-2.5635e-01],\n",
       "        [ 4.8111e-01],\n",
       "        [-4.6128e-01],\n",
       "        [ 1.5695e+00],\n",
       "        [-3.2305e-01],\n",
       "        [ 3.0587e-01],\n",
       "        [-3.8130e-01],\n",
       "        [-1.7305e+00],\n",
       "        [-1.1779e+00],\n",
       "        [-8.7667e-01],\n",
       "        [ 8.1869e-01],\n",
       "        [-1.2308e+00],\n",
       "        [ 3.6176e-01],\n",
       "        [-2.6112e-01],\n",
       "        [-3.6908e-01],\n",
       "        [ 3.8732e-01],\n",
       "        [ 3.2907e-01],\n",
       "        [ 1.2842e+00],\n",
       "        [ 1.0639e+00],\n",
       "        [-1.0919e+00],\n",
       "        [ 5.5968e-04],\n",
       "        [ 1.0591e-01],\n",
       "        [-4.0779e-02],\n",
       "        [ 4.4723e-01],\n",
       "        [-4.9060e-01],\n",
       "        [ 7.0840e-01],\n",
       "        [-1.0846e-01],\n",
       "        [ 1.0259e+00],\n",
       "        [ 8.4141e-01],\n",
       "        [-4.7288e-01],\n",
       "        [ 7.5813e-01],\n",
       "        [-5.8642e-01],\n",
       "        [-3.0884e-01],\n",
       "        [ 1.0231e+00],\n",
       "        [ 2.5344e-02],\n",
       "        [-3.4118e-01],\n",
       "        [-1.0127e+00],\n",
       "        [-5.6759e-01],\n",
       "        [-3.3930e+00],\n",
       "        [ 1.3850e+00],\n",
       "        [-1.0941e+00],\n",
       "        [-9.8545e-02],\n",
       "        [-8.4937e-01],\n",
       "        [ 2.6630e-01],\n",
       "        [ 1.0067e+00],\n",
       "        [-2.4098e-01],\n",
       "        [-2.4514e-01],\n",
       "        [-2.8300e-01],\n",
       "        [-1.1132e+00],\n",
       "        [-1.7300e-01],\n",
       "        [ 5.9174e-01],\n",
       "        [ 1.5884e+00],\n",
       "        [ 8.6412e-01],\n",
       "        [-2.7193e+00],\n",
       "        [ 1.5467e+00],\n",
       "        [-4.0128e-01],\n",
       "        [-1.8384e-01],\n",
       "        [-3.1151e-01],\n",
       "        [ 2.7969e-01],\n",
       "        [ 2.9726e-01],\n",
       "        [-5.2628e-01],\n",
       "        [ 4.1826e-01],\n",
       "        [ 6.9930e-01],\n",
       "        [ 3.4677e-02],\n",
       "        [-1.4581e-01],\n",
       "        [ 1.3895e+00],\n",
       "        [-5.1363e-02],\n",
       "        [-1.8827e-01],\n",
       "        [-7.6616e-01],\n",
       "        [ 6.2698e-01],\n",
       "        [-4.4885e-02],\n",
       "        [-2.7982e-01],\n",
       "        [-1.7739e+00],\n",
       "        [-7.2327e-01],\n",
       "        [-3.2022e-01],\n",
       "        [ 2.1827e+00],\n",
       "        [ 8.1669e-01],\n",
       "        [ 6.0301e-01],\n",
       "        [-5.5268e-01],\n",
       "        [-9.9726e-01],\n",
       "        [ 6.4905e-01],\n",
       "        [ 1.1963e+00],\n",
       "        [-1.8160e+00],\n",
       "        [ 5.5030e-01],\n",
       "        [-2.3591e-01],\n",
       "        [ 4.7361e-01],\n",
       "        [ 4.3835e-01],\n",
       "        [-8.9797e-01],\n",
       "        [ 1.6684e+00],\n",
       "        [-8.5679e-01],\n",
       "        [-3.3449e-01],\n",
       "        [ 1.6641e-01],\n",
       "        [-1.0696e+00],\n",
       "        [ 3.0951e-01],\n",
       "        [-1.7859e+00],\n",
       "        [ 1.9378e+00],\n",
       "        [ 1.3237e+00],\n",
       "        [ 1.0062e+00],\n",
       "        [ 4.4332e-01],\n",
       "        [-1.5713e+00],\n",
       "        [ 1.4607e+00],\n",
       "        [ 1.3506e+00],\n",
       "        [-4.1981e-01],\n",
       "        [ 1.3291e+00],\n",
       "        [-1.8704e+00],\n",
       "        [ 7.0342e-04],\n",
       "        [ 2.1835e-02],\n",
       "        [-5.5903e-01],\n",
       "        [ 1.6021e+00],\n",
       "        [-6.1274e-01],\n",
       "        [ 5.0711e-01],\n",
       "        [ 4.6747e-01],\n",
       "        [-1.7480e+00],\n",
       "        [ 1.1653e+00],\n",
       "        [ 1.2730e+00],\n",
       "        [-3.0518e-01],\n",
       "        [-6.2462e-02],\n",
       "        [-8.0265e-01],\n",
       "        [-2.6367e-02],\n",
       "        [ 1.5235e-01],\n",
       "        [-1.0769e+00],\n",
       "        [ 1.9417e-01],\n",
       "        [-6.4746e-01],\n",
       "        [-6.7783e-01],\n",
       "        [-3.9961e-01],\n",
       "        [ 1.1648e+00],\n",
       "        [ 9.1351e-01],\n",
       "        [ 2.0759e-01],\n",
       "        [ 6.3334e-01],\n",
       "        [-6.4499e-01],\n",
       "        [ 4.0345e-01],\n",
       "        [-1.3920e-01],\n",
       "        [-1.1046e+00],\n",
       "        [-3.8670e-01],\n",
       "        [ 1.5245e+00],\n",
       "        [ 6.1141e-03],\n",
       "        [-3.9848e-01],\n",
       "        [ 4.4263e-01],\n",
       "        [-2.2115e+00],\n",
       "        [ 5.8719e-02],\n",
       "        [ 1.2337e+00],\n",
       "        [ 1.4490e+00],\n",
       "        [ 6.2513e-01],\n",
       "        [ 2.0755e+00],\n",
       "        [-6.7849e-01],\n",
       "        [-9.8679e-02],\n",
       "        [ 2.7217e-01],\n",
       "        [ 4.5638e-01],\n",
       "        [-9.3335e-02],\n",
       "        [-4.3632e-01],\n",
       "        [ 1.0869e+00],\n",
       "        [-6.6227e-01],\n",
       "        [-1.2991e+00],\n",
       "        [ 1.3736e+00],\n",
       "        [-1.7028e+00],\n",
       "        [ 5.7353e-01],\n",
       "        [-1.5045e-01],\n",
       "        [-1.2895e+00],\n",
       "        [ 1.6086e+00],\n",
       "        [-3.3357e-02],\n",
       "        [ 1.5950e+00],\n",
       "        [ 2.2809e+00],\n",
       "        [-1.6111e-01],\n",
       "        [-6.8906e-01],\n",
       "        [ 1.2959e+00],\n",
       "        [-1.5218e+00],\n",
       "        [-5.1088e-01],\n",
       "        [ 1.1559e+00],\n",
       "        [ 3.3010e-01],\n",
       "        [-9.7048e-01],\n",
       "        [ 7.5020e-01],\n",
       "        [ 1.0761e+00],\n",
       "        [-6.8058e-01],\n",
       "        [-6.8153e-01],\n",
       "        [ 8.4975e-01],\n",
       "        [-1.8491e-01],\n",
       "        [ 6.4238e-01],\n",
       "        [-2.8616e-03],\n",
       "        [ 1.8321e+00],\n",
       "        [-1.4293e+00],\n",
       "        [ 2.6729e-01],\n",
       "        [ 1.6799e+00],\n",
       "        [-7.0963e-03],\n",
       "        [ 4.9423e-01],\n",
       "        [-1.9336e+00],\n",
       "        [-2.5866e-01],\n",
       "        [-1.0214e-01],\n",
       "        [-1.4215e+00],\n",
       "        [ 9.5041e-01],\n",
       "        [-1.5844e+00],\n",
       "        [-2.9885e-01],\n",
       "        [-6.3326e-01],\n",
       "        [ 9.7717e-01],\n",
       "        [-9.8323e-01],\n",
       "        [ 8.6507e-01],\n",
       "        [ 8.4668e-01],\n",
       "        [-1.4452e+00],\n",
       "        [ 5.4495e-01],\n",
       "        [ 1.6545e+00],\n",
       "        [ 8.0223e-01],\n",
       "        [ 9.7208e-01],\n",
       "        [-7.6538e-01],\n",
       "        [-6.4678e-01],\n",
       "        [-3.9307e-03],\n",
       "        [-1.6918e-01],\n",
       "        [ 5.4977e-01],\n",
       "        [ 6.7847e-01],\n",
       "        [-7.4024e-01],\n",
       "        [-6.8488e-01],\n",
       "        [-1.2462e+00],\n",
       "        [-1.3729e+00],\n",
       "        [ 8.4559e-01],\n",
       "        [ 2.4037e-01],\n",
       "        [ 9.5432e-02],\n",
       "        [-4.3125e-01],\n",
       "        [-5.9828e-03],\n",
       "        [-6.3557e-01],\n",
       "        [-1.6286e-01],\n",
       "        [-1.7547e+00],\n",
       "        [-1.4599e+00],\n",
       "        [ 4.2957e-01],\n",
       "        [ 1.7457e+00],\n",
       "        [-8.1809e-01],\n",
       "        [-5.9890e-01],\n",
       "        [-2.5587e+00],\n",
       "        [ 5.5062e-01],\n",
       "        [ 9.1514e-01],\n",
       "        [ 1.1177e-01],\n",
       "        [ 8.3714e-01],\n",
       "        [-3.6764e-01],\n",
       "        [ 8.3473e-01],\n",
       "        [-6.7045e-01],\n",
       "        [ 1.1034e+00],\n",
       "        [-7.1134e-01],\n",
       "        [ 3.3275e-01],\n",
       "        [ 1.6451e+00],\n",
       "        [ 3.4501e-01],\n",
       "        [-9.1031e-01],\n",
       "        [-3.3572e-01],\n",
       "        [-6.6103e-02],\n",
       "        [-2.0229e-01],\n",
       "        [-3.4265e-01],\n",
       "        [-5.1019e-01],\n",
       "        [ 4.9445e-01],\n",
       "        [-1.6571e+00],\n",
       "        [-7.6575e-03],\n",
       "        [-1.0308e+00],\n",
       "        [ 1.3317e+00],\n",
       "        [ 6.7602e-01],\n",
       "        [ 4.1966e-01],\n",
       "        [ 1.9280e+00],\n",
       "        [-1.8233e+00],\n",
       "        [-1.2841e-01],\n",
       "        [ 2.2232e+00],\n",
       "        [ 4.5456e-01],\n",
       "        [ 4.9199e-01],\n",
       "        [ 1.8289e-01],\n",
       "        [ 3.9879e-02],\n",
       "        [ 9.5331e-01],\n",
       "        [ 7.7303e-01],\n",
       "        [ 7.3619e-01],\n",
       "        [-9.6830e-01],\n",
       "        [-4.0624e-01],\n",
       "        [-4.8002e-01],\n",
       "        [ 8.3803e-01],\n",
       "        [ 2.6439e-01],\n",
       "        [-8.9179e-01],\n",
       "        [-7.9221e-01],\n",
       "        [ 1.0902e+00],\n",
       "        [-1.2318e+00],\n",
       "        [-2.6118e-01],\n",
       "        [ 8.8061e-01],\n",
       "        [-2.1648e-01],\n",
       "        [-7.8711e-01],\n",
       "        [ 2.0175e+00],\n",
       "        [ 1.6421e+00],\n",
       "        [-2.6020e+00],\n",
       "        [ 4.8813e-01],\n",
       "        [-1.3022e+00],\n",
       "        [ 1.0055e+00],\n",
       "        [ 1.4808e+00],\n",
       "        [-4.7252e-02],\n",
       "        [-7.5033e-01],\n",
       "        [-1.8117e+00],\n",
       "        [ 1.2592e+00],\n",
       "        [ 1.0465e+00],\n",
       "        [-9.4985e-02],\n",
       "        [ 7.8300e-01],\n",
       "        [ 1.5330e+00],\n",
       "        [-5.6746e-01],\n",
       "        [ 7.7478e-01],\n",
       "        [-1.2161e+00],\n",
       "        [-4.8616e-01],\n",
       "        [-2.2147e-01],\n",
       "        [-4.8186e-01],\n",
       "        [-4.5513e-02],\n",
       "        [ 7.8240e-01],\n",
       "        [ 1.3572e+00],\n",
       "        [-1.4959e+00],\n",
       "        [-5.1466e-01],\n",
       "        [-4.7947e-01],\n",
       "        [ 1.0990e+00],\n",
       "        [ 4.2639e-01],\n",
       "        [ 6.6409e-01],\n",
       "        [-1.3345e+00],\n",
       "        [-1.2741e-01],\n",
       "        [-3.0742e-01],\n",
       "        [-4.6435e-01],\n",
       "        [ 1.9578e-01],\n",
       "        [ 2.1832e-01],\n",
       "        [-8.3365e-01],\n",
       "        [ 1.6444e-01],\n",
       "        [-5.5267e-01],\n",
       "        [-1.0999e+00],\n",
       "        [-1.4216e+00],\n",
       "        [ 4.4849e-01],\n",
       "        [-7.4474e-01],\n",
       "        [ 4.2880e-01],\n",
       "        [ 5.5260e-01],\n",
       "        [-1.0653e+00],\n",
       "        [-2.0629e+00],\n",
       "        [ 4.9321e-01],\n",
       "        [ 6.8940e-01],\n",
       "        [ 1.8271e+00],\n",
       "        [-5.6842e-01],\n",
       "        [ 1.8661e-01],\n",
       "        [-4.8796e-01],\n",
       "        [-1.0474e+00],\n",
       "        [-2.1144e+00],\n",
       "        [ 1.1056e+00],\n",
       "        [ 1.1265e+00],\n",
       "        [ 7.4838e-01],\n",
       "        [ 1.7833e+00],\n",
       "        [-9.6387e-01],\n",
       "        [-3.8444e-01],\n",
       "        [ 1.7919e+00],\n",
       "        [ 4.9492e-01],\n",
       "        [-1.3992e+00],\n",
       "        [ 1.9250e+00],\n",
       "        [-4.6427e-01],\n",
       "        [-4.3597e-01],\n",
       "        [-2.1683e+00],\n",
       "        [-8.7390e-01],\n",
       "        [-2.5250e-01],\n",
       "        [ 9.2918e-02],\n",
       "        [ 1.4905e+00],\n",
       "        [-8.9234e-01],\n",
       "        [-4.2802e-01],\n",
       "        [-1.2582e+00],\n",
       "        [-5.6982e-01],\n",
       "        [-1.2294e+00],\n",
       "        [ 6.7937e-01],\n",
       "        [ 5.4897e-01],\n",
       "        [-5.1873e-02],\n",
       "        [ 2.2315e+00],\n",
       "        [-1.5887e+00],\n",
       "        [ 8.0141e-01],\n",
       "        [ 2.1551e-01],\n",
       "        [-1.1103e+00],\n",
       "        [ 8.0835e-01],\n",
       "        [ 6.6497e-01],\n",
       "        [-1.3030e+00],\n",
       "        [-1.7955e+00],\n",
       "        [ 8.9508e-01],\n",
       "        [ 1.7909e-01],\n",
       "        [ 7.0602e-01],\n",
       "        [ 6.5345e-01],\n",
       "        [ 1.4693e-01],\n",
       "        [ 4.0346e-01],\n",
       "        [ 1.1204e+00],\n",
       "        [-1.0786e+00],\n",
       "        [-3.1191e-01],\n",
       "        [-7.1351e-01],\n",
       "        [ 7.5473e-01],\n",
       "        [-1.4926e-01],\n",
       "        [ 3.0149e-01],\n",
       "        [ 9.7673e-01],\n",
       "        [ 2.5813e-01],\n",
       "        [ 1.5978e+00],\n",
       "        [-1.3852e+00],\n",
       "        [-6.3264e-01],\n",
       "        [ 2.3703e-01],\n",
       "        [ 8.3246e-01],\n",
       "        [-1.3897e+00],\n",
       "        [-2.8165e-01],\n",
       "        [ 9.9318e-01],\n",
       "        [-1.6919e+00],\n",
       "        [-6.0549e-01],\n",
       "        [-8.2697e-02],\n",
       "        [-2.4688e-01],\n",
       "        [-8.8287e-01],\n",
       "        [ 6.8448e-02],\n",
       "        [ 4.1261e-01],\n",
       "        [-1.9831e-01],\n",
       "        [-9.7663e-01],\n",
       "        [-9.1971e-01],\n",
       "        [-6.4460e-01],\n",
       "        [ 4.4766e-01],\n",
       "        [ 2.3356e-01],\n",
       "        [-8.9185e-02],\n",
       "        [ 2.1122e-01],\n",
       "        [-2.1225e-01],\n",
       "        [-5.4982e-01],\n",
       "        [-1.1858e+00],\n",
       "        [ 2.8870e-01],\n",
       "        [ 1.0157e+00],\n",
       "        [-1.9308e+00],\n",
       "        [-7.4190e-01],\n",
       "        [-1.3317e+00],\n",
       "        [-9.0293e-01],\n",
       "        [-1.4439e-01],\n",
       "        [-8.9769e-01],\n",
       "        [-7.5560e-02],\n",
       "        [-9.1321e-01],\n",
       "        [-1.4075e+00],\n",
       "        [-4.2843e-01],\n",
       "        [-1.4558e+00],\n",
       "        [-2.1179e-01],\n",
       "        [ 4.2489e-01],\n",
       "        [ 1.5489e-01],\n",
       "        [-2.1707e-01],\n",
       "        [ 1.0023e-01],\n",
       "        [-1.7456e-01],\n",
       "        [-1.5226e+00],\n",
       "        [-9.9118e-01],\n",
       "        [-2.0556e+00],\n",
       "        [-4.9628e-01],\n",
       "        [-2.0153e-01],\n",
       "        [-6.8851e-01],\n",
       "        [-7.3122e-01],\n",
       "        [ 2.6812e-01],\n",
       "        [ 1.5226e-02],\n",
       "        [-2.5721e-01],\n",
       "        [-2.2465e+00],\n",
       "        [-1.2094e+00],\n",
       "        [-1.5394e-01],\n",
       "        [ 8.0426e-01],\n",
       "        [-2.0970e-01],\n",
       "        [-2.0962e+00],\n",
       "        [-2.6933e-01],\n",
       "        [-2.0215e-01],\n",
       "        [ 1.2826e+00],\n",
       "        [ 9.9426e-01],\n",
       "        [ 1.9171e-01],\n",
       "        [ 2.4545e+00],\n",
       "        [-5.5943e-01],\n",
       "        [ 3.3939e-01],\n",
       "        [ 8.8844e-01],\n",
       "        [ 2.0523e+00],\n",
       "        [-6.4052e-01],\n",
       "        [ 3.6252e-01],\n",
       "        [ 2.0963e+00],\n",
       "        [ 1.2866e-01],\n",
       "        [-9.7631e-02],\n",
       "        [ 7.1279e-01],\n",
       "        [ 3.4014e-01],\n",
       "        [ 7.6448e-01],\n",
       "        [ 3.6753e-01],\n",
       "        [ 1.8417e-01],\n",
       "        [ 2.7666e-01],\n",
       "        [ 7.7777e-01],\n",
       "        [-7.4368e-01],\n",
       "        [-2.1354e-01],\n",
       "        [-7.0675e-01],\n",
       "        [ 1.8627e-01],\n",
       "        [-2.1824e+00],\n",
       "        [-2.4612e+00],\n",
       "        [-1.3759e-01],\n",
       "        [-1.4854e+00],\n",
       "        [-4.7332e-01],\n",
       "        [ 5.9833e-01],\n",
       "        [ 6.9969e-01],\n",
       "        [ 1.7862e+00],\n",
       "        [ 4.3906e-01],\n",
       "        [-5.1428e-01],\n",
       "        [-3.8706e-01],\n",
       "        [ 5.7020e-01],\n",
       "        [-4.8492e-01],\n",
       "        [-1.1428e+00],\n",
       "        [-6.9690e-01],\n",
       "        [ 1.6072e-01],\n",
       "        [ 1.2350e-01],\n",
       "        [-1.4507e+00],\n",
       "        [ 4.6157e-01],\n",
       "        [ 8.4641e-01],\n",
       "        [ 1.4072e-01],\n",
       "        [ 3.4227e-01],\n",
       "        [ 1.2830e+00],\n",
       "        [ 9.5702e-01],\n",
       "        [-2.4501e+00],\n",
       "        [ 2.1175e-01],\n",
       "        [-2.9725e-01],\n",
       "        [-1.8854e+00],\n",
       "        [ 4.7651e-01],\n",
       "        [-2.3129e+00],\n",
       "        [ 2.4530e-01],\n",
       "        [-9.5697e-01],\n",
       "        [ 9.8959e-01],\n",
       "        [-3.8608e-01],\n",
       "        [ 1.1259e+00],\n",
       "        [ 1.9664e-01],\n",
       "        [-5.7414e-02],\n",
       "        [ 1.4718e+00],\n",
       "        [-1.2321e-01],\n",
       "        [-1.6456e+00],\n",
       "        [-4.6832e-01],\n",
       "        [ 5.3582e-01],\n",
       "        [-5.3285e-01],\n",
       "        [ 6.3126e-01],\n",
       "        [-1.4222e+00],\n",
       "        [-4.2236e-01],\n",
       "        [-3.9146e-01],\n",
       "        [ 1.9997e+00],\n",
       "        [-1.4522e+00],\n",
       "        [ 1.0636e+00],\n",
       "        [-1.4112e+00],\n",
       "        [ 2.1635e-01],\n",
       "        [-2.2201e-01],\n",
       "        [ 1.0012e+00],\n",
       "        [-2.4595e-01],\n",
       "        [ 1.5317e+00],\n",
       "        [ 1.0717e+00],\n",
       "        [ 1.2802e+00],\n",
       "        [ 8.1669e-01],\n",
       "        [ 1.2909e+00],\n",
       "        [ 6.7323e-01],\n",
       "        [ 1.2649e+00],\n",
       "        [-5.6702e-01],\n",
       "        [-1.0412e-01],\n",
       "        [ 2.1526e-01],\n",
       "        [ 7.5045e-01],\n",
       "        [ 4.1487e-01],\n",
       "        [-2.9382e-01],\n",
       "        [ 9.9360e-01],\n",
       "        [ 8.5732e-01],\n",
       "        [-6.8022e-01],\n",
       "        [-5.3050e-01],\n",
       "        [ 2.3089e+00],\n",
       "        [ 1.6804e+00],\n",
       "        [-2.4098e+00],\n",
       "        [ 4.9685e-01],\n",
       "        [-1.0357e-01],\n",
       "        [-3.8144e-01],\n",
       "        [-1.4960e-01],\n",
       "        [ 7.2131e-01],\n",
       "        [-1.2078e-01],\n",
       "        [ 1.9863e+00],\n",
       "        [ 1.4671e-02],\n",
       "        [-5.2199e-01],\n",
       "        [-1.0800e+00],\n",
       "        [ 1.2978e-01],\n",
       "        [-1.1275e+00],\n",
       "        [ 5.0587e-01],\n",
       "        [-5.0608e-02],\n",
       "        [ 6.9927e-01],\n",
       "        [-4.2350e-01],\n",
       "        [-1.3125e-01],\n",
       "        [ 7.9735e-01],\n",
       "        [ 2.5396e+00],\n",
       "        [-3.0046e-01],\n",
       "        [-1.4094e+00],\n",
       "        [ 1.5217e+00],\n",
       "        [ 8.0327e-01],\n",
       "        [-1.5144e-01],\n",
       "        [-1.4487e+00],\n",
       "        [ 1.0837e+00],\n",
       "        [ 2.5071e-01],\n",
       "        [ 9.2060e-01],\n",
       "        [-1.5997e+00],\n",
       "        [-2.0661e-01],\n",
       "        [-7.9211e-01],\n",
       "        [-5.4633e-01],\n",
       "        [-1.3552e+00],\n",
       "        [-5.8045e-01],\n",
       "        [-1.4220e+00],\n",
       "        [ 7.6616e-01],\n",
       "        [-1.8862e-01],\n",
       "        [-1.8993e+00],\n",
       "        [-2.3610e+00],\n",
       "        [-1.6144e+00],\n",
       "        [ 6.0547e-01],\n",
       "        [-7.5050e-01],\n",
       "        [ 7.9466e-01],\n",
       "        [ 1.3972e+00],\n",
       "        [ 1.0335e+00],\n",
       "        [ 2.6055e-01],\n",
       "        [ 8.6094e-01],\n",
       "        [ 1.2477e-01],\n",
       "        [-1.0175e+00],\n",
       "        [-1.3207e+00],\n",
       "        [ 7.7688e-01],\n",
       "        [ 3.8312e-01],\n",
       "        [ 1.1621e+00],\n",
       "        [ 6.0787e-01],\n",
       "        [-1.9008e+00],\n",
       "        [-1.2923e+00],\n",
       "        [-5.9835e-01],\n",
       "        [-4.2331e-02],\n",
       "        [ 3.4372e-01],\n",
       "        [-4.7920e-03],\n",
       "        [-8.1205e-01],\n",
       "        [ 1.1771e+00],\n",
       "        [ 1.4318e-01],\n",
       "        [ 8.7603e-02],\n",
       "        [ 1.2887e+00],\n",
       "        [ 1.1114e+00],\n",
       "        [-2.6801e-01],\n",
       "        [ 1.3461e-01],\n",
       "        [ 7.2100e-01],\n",
       "        [ 4.3874e-02],\n",
       "        [ 4.5005e-01],\n",
       "        [ 4.8258e-01],\n",
       "        [-7.4930e-01],\n",
       "        [ 1.6290e+00],\n",
       "        [ 5.8161e-01],\n",
       "        [ 6.4678e-01],\n",
       "        [ 8.9794e-01],\n",
       "        [-2.0765e+00],\n",
       "        [ 4.6069e-01],\n",
       "        [-2.4340e-01],\n",
       "        [ 9.5195e-02],\n",
       "        [-5.9404e-01],\n",
       "        [ 1.4225e+00],\n",
       "        [-2.5363e-02],\n",
       "        [ 1.7856e+00],\n",
       "        [-9.5761e-01],\n",
       "        [ 8.4502e-01],\n",
       "        [ 6.0175e-01],\n",
       "        [ 8.6884e-02],\n",
       "        [ 7.4494e-03],\n",
       "        [ 9.1815e-01],\n",
       "        [-9.4690e-01],\n",
       "        [ 6.1760e-02],\n",
       "        [ 1.3018e-01],\n",
       "        [ 6.9197e-01],\n",
       "        [ 1.1140e+00],\n",
       "        [-4.5744e-01],\n",
       "        [ 6.1484e-01],\n",
       "        [ 9.5663e-01],\n",
       "        [ 5.8440e-01],\n",
       "        [ 8.4599e-01],\n",
       "        [ 8.2776e-02],\n",
       "        [ 1.7045e+00],\n",
       "        [-5.1846e-01],\n",
       "        [-8.3690e-01],\n",
       "        [-1.3699e+00],\n",
       "        [-6.5019e-02],\n",
       "        [-1.5634e-01],\n",
       "        [ 3.1019e-01],\n",
       "        [-1.4327e+00],\n",
       "        [ 5.6815e-01],\n",
       "        [-1.7544e-01],\n",
       "        [ 2.2345e-02],\n",
       "        [-4.9234e-01],\n",
       "        [-1.0435e+00],\n",
       "        [-2.5550e-01],\n",
       "        [-9.6880e-01],\n",
       "        [-1.0908e-02],\n",
       "        [ 4.8619e-01],\n",
       "        [-1.7450e-01],\n",
       "        [ 1.8015e+00],\n",
       "        [-6.3809e-01],\n",
       "        [-3.2480e-01],\n",
       "        [-1.5263e+00],\n",
       "        [ 6.3003e-01],\n",
       "        [ 8.2055e-01],\n",
       "        [-5.2089e-01],\n",
       "        [-9.8857e-01],\n",
       "        [ 1.5931e+00],\n",
       "        [-2.4055e-01],\n",
       "        [-8.5893e-01],\n",
       "        [ 1.7669e+00],\n",
       "        [-1.0895e-01],\n",
       "        [-1.6562e-01],\n",
       "        [-2.9392e-01],\n",
       "        [-6.2811e-02],\n",
       "        [-1.8591e-01],\n",
       "        [-1.7469e+00],\n",
       "        [-2.4430e+00],\n",
       "        [ 6.9763e-01],\n",
       "        [ 1.7171e+00],\n",
       "        [ 1.8612e+00],\n",
       "        [ 1.3868e+00],\n",
       "        [-1.2052e+00],\n",
       "        [ 5.3951e-01],\n",
       "        [ 1.5773e+00],\n",
       "        [ 9.4281e-01],\n",
       "        [ 4.7170e-02],\n",
       "        [ 1.3709e-01],\n",
       "        [-1.2034e-01],\n",
       "        [-1.4114e+00],\n",
       "        [ 1.0676e-01],\n",
       "        [-3.4199e-01],\n",
       "        [-5.1896e-01],\n",
       "        [ 2.4647e-01],\n",
       "        [ 9.1181e-01],\n",
       "        [ 8.4289e-01],\n",
       "        [-9.7116e-01],\n",
       "        [-3.7742e-01],\n",
       "        [-1.4252e+00],\n",
       "        [ 1.2155e+00],\n",
       "        [-1.2441e+00],\n",
       "        [ 1.5030e-01],\n",
       "        [-1.3840e+00],\n",
       "        [ 9.2991e-02],\n",
       "        [ 1.2520e+00],\n",
       "        [-1.1592e+00],\n",
       "        [-1.4216e+00],\n",
       "        [ 2.2112e-01],\n",
       "        [ 7.9586e-01],\n",
       "        [ 5.7326e-01],\n",
       "        [ 1.6917e+00],\n",
       "        [ 1.6862e+00],\n",
       "        [ 3.5367e-02],\n",
       "        [-1.6882e-01],\n",
       "        [ 1.1291e+00],\n",
       "        [-4.0780e-01],\n",
       "        [ 1.0543e-01],\n",
       "        [ 2.8884e-01],\n",
       "        [-8.4231e-02],\n",
       "        [-6.7452e-01],\n",
       "        [ 1.1463e-01],\n",
       "        [-5.4357e-01],\n",
       "        [-1.2839e+00],\n",
       "        [-6.3832e-01],\n",
       "        [-1.5970e+00],\n",
       "        [-4.6421e-01],\n",
       "        [ 1.7589e-01],\n",
       "        [ 6.5260e-01],\n",
       "        [-4.4081e-01],\n",
       "        [-3.1639e-01],\n",
       "        [ 3.8708e-02],\n",
       "        [-1.8684e-01],\n",
       "        [-2.6407e+00],\n",
       "        [ 8.9963e-01],\n",
       "        [-8.0685e-01],\n",
       "        [-6.3828e-01],\n",
       "        [ 1.6273e+00],\n",
       "        [-1.0100e+00],\n",
       "        [-1.0467e+00],\n",
       "        [ 3.7677e-01]], requires_grad=True)"
      ]
     },
     "execution_count": 25,
     "metadata": {},
     "output_type": "execute_result"
    }
   ],
   "source": [
    "valid_x = torch.cat([valid_3_tens, valid_7_tens]).view(-1, 28*28)\n",
    "valid_y = tensor([1]*len(valid_3_tens) + [0]*len(valid_7_tens)).unsqueeze(1)\n",
    "valid_dset = list(zip(valid_x, valid_y))\n",
    "\n",
    "def init_params(size, std=1.0): return (torch.randn(size)*std).requires_grad_()\n",
    "weights = init_params((28*28, 1))\n",
    "weights"
   ]
  },
  {
   "cell_type": "code",
   "execution_count": 26,
   "metadata": {},
   "outputs": [
    {
     "data": {
      "text/plain": [
       "tensor([-1.6935], requires_grad=True)"
      ]
     },
     "execution_count": 26,
     "metadata": {},
     "output_type": "execute_result"
    }
   ],
   "source": [
    "bias = init_params(1); bias"
   ]
  },
  {
   "cell_type": "code",
   "execution_count": 27,
   "metadata": {},
   "outputs": [
    {
     "data": {
      "text/plain": [
       "tensor([[12.3307],\n",
       "        [19.3054],\n",
       "        [ 9.9163],\n",
       "        ...,\n",
       "        [ 7.9158],\n",
       "        [-5.7089],\n",
       "        [16.6841]], grad_fn=<AddBackward0>)"
      ]
     },
     "execution_count": 27,
     "metadata": {},
     "output_type": "execute_result"
    }
   ],
   "source": [
    "def linear1(xb): return xb@weights + bias\n",
    "preds = linear1(train_x)\n",
    "preds"
   ]
  },
  {
   "cell_type": "code",
   "execution_count": 28,
   "metadata": {},
   "outputs": [
    {
     "data": {
      "text/plain": [
       "tensor([[ True],\n",
       "        [ True],\n",
       "        [ True],\n",
       "        ...,\n",
       "        [False],\n",
       "        [ True],\n",
       "        [False]])"
      ]
     },
     "execution_count": 28,
     "metadata": {},
     "output_type": "execute_result"
    }
   ],
   "source": [
    "corrects = (preds>0.0).float() == train_y\n",
    "corrects"
   ]
  },
  {
   "cell_type": "code",
   "execution_count": 29,
   "metadata": {},
   "outputs": [
    {
     "data": {
      "text/plain": [
       "0.594304621219635"
      ]
     },
     "execution_count": 29,
     "metadata": {},
     "output_type": "execute_result"
    }
   ],
   "source": [
    "corrects.float().mean().item()"
   ]
  },
  {
   "cell_type": "code",
   "execution_count": 31,
   "metadata": {},
   "outputs": [],
   "source": [
    "def mnist_loss(predictions, targets):\n",
    "    predictions = predictions.sigmoid()\n",
    "    return torch.where(targets==1, 1-predictions, predictions).mean()"
   ]
  },
  {
   "cell_type": "code",
   "execution_count": 32,
   "metadata": {},
   "outputs": [
    {
     "data": {
      "text/plain": [
       "(torch.Size([256, 784]), torch.Size([256, 1]))"
      ]
     },
     "execution_count": 32,
     "metadata": {},
     "output_type": "execute_result"
    }
   ],
   "source": [
    "weights = init_params((28*28*1))\n",
    "bias = init_params(1)\n",
    "\n",
    "dl = DataLoader(dset, batch_size=256)\n",
    "xb, yb = first(dl)\n",
    "xb.shape, yb.shape"
   ]
  },
  {
   "cell_type": "code",
   "execution_count": 33,
   "metadata": {},
   "outputs": [
    {
     "data": {
      "text/plain": [
       "torch.Size([4, 784])"
      ]
     },
     "execution_count": 33,
     "metadata": {},
     "output_type": "execute_result"
    }
   ],
   "source": [
    "valid_dl = DataLoader(valid_dset, batch_size=256)\n",
    "batch = train_x[:4]\n",
    "batch.shape"
   ]
  },
  {
   "cell_type": "code",
   "execution_count": 34,
   "metadata": {},
   "outputs": [
    {
     "data": {
      "text/plain": [
       "tensor([-0.8335, 11.2768, -2.3899,  0.5064], grad_fn=<AddBackward0>)"
      ]
     },
     "execution_count": 34,
     "metadata": {},
     "output_type": "execute_result"
    }
   ],
   "source": [
    "preds = linear1(batch)\n",
    "preds"
   ]
  },
  {
   "cell_type": "code",
   "execution_count": 35,
   "metadata": {},
   "outputs": [
    {
     "data": {
      "text/plain": [
       "tensor(0.4973, grad_fn=<MeanBackward0>)"
      ]
     },
     "execution_count": 35,
     "metadata": {},
     "output_type": "execute_result"
    }
   ],
   "source": [
    "loss = mnist_loss(preds, train_y[:4])\n",
    "loss"
   ]
  },
  {
   "cell_type": "code",
   "execution_count": 36,
   "metadata": {},
   "outputs": [
    {
     "data": {
      "text/plain": [
       "(torch.Size([784]), tensor(-0.0206), tensor([-0.1307]))"
      ]
     },
     "execution_count": 36,
     "metadata": {},
     "output_type": "execute_result"
    }
   ],
   "source": [
    "loss.backward()\n",
    "weights.grad.shape, weights.grad.mean(), bias.grad"
   ]
  },
  {
   "cell_type": "code",
   "execution_count": 37,
   "metadata": {},
   "outputs": [
    {
     "data": {
      "text/plain": [
       "(tensor(-0.0412), tensor([-0.2614]))"
      ]
     },
     "execution_count": 37,
     "metadata": {},
     "output_type": "execute_result"
    }
   ],
   "source": [
    "def calc_grad(xb, yb, model):\n",
    "    preds = model(xb)\n",
    "    loss = mnist_loss(preds, yb)\n",
    "    loss.backward()\n",
    "\n",
    "calc_grad(batch, train_y[:4], linear1)\n",
    "weights.grad.mean(), bias.grad"
   ]
  },
  {
   "cell_type": "code",
   "execution_count": 40,
   "metadata": {},
   "outputs": [
    {
     "data": {
      "text/plain": [
       "tensor(0.5000)"
      ]
     },
     "execution_count": 40,
     "metadata": {},
     "output_type": "execute_result"
    }
   ],
   "source": [
    "def train_epoch(model, lr, params):\n",
    "    for xb, yb in dl:\n",
    "        calc_grad(xb, yb, model)\n",
    "        for p in params:\n",
    "            p.data -= p.grad*lr\n",
    "            p.grad.zero_()\n",
    "\n",
    "def batch_accuracy(xb, yb):\n",
    "    preds = xb.sigmoid()\n",
    "    correct = (preds>0.5) == yb\n",
    "    return correct.float().mean()\n",
    "\n",
    "batch_accuracy(linear1(batch), train_y[:4])"
   ]
  },
  {
   "cell_type": "code",
   "execution_count": 41,
   "metadata": {},
   "outputs": [
    {
     "data": {
      "text/plain": [
       "0.4903"
      ]
     },
     "execution_count": 41,
     "metadata": {},
     "output_type": "execute_result"
    }
   ],
   "source": [
    "def validate_epoch(model):\n",
    "    accs = [batch_accuracy(model(xb), yb) for xb, yb in valid_dl]\n",
    "    return round(torch.stack(accs).mean().item(), 4)\n",
    "\n",
    "validate_epoch(linear1)"
   ]
  },
  {
   "cell_type": "code",
   "execution_count": 42,
   "metadata": {},
   "outputs": [
    {
     "data": {
      "text/plain": [
       "0.7135"
      ]
     },
     "execution_count": 42,
     "metadata": {},
     "output_type": "execute_result"
    }
   ],
   "source": [
    "lr = 1\n",
    "params = weights, bias\n",
    "train_epoch(linear1, lr, params)\n",
    "validate_epoch(linear1)"
   ]
  },
  {
   "cell_type": "code",
   "execution_count": 43,
   "metadata": {},
   "outputs": [
    {
     "name": "stdout",
     "output_type": "stream",
     "text": [
      "0.8255 0.8919 0.9173 0.9288 0.9384 0.9425 0.9448 0.9475 0.9499 0.9518 0.9532 0.9551 0.9561 0.9556 0.9556 0.9576 0.9576 0.9581 0.9591 0.96 "
     ]
    }
   ],
   "source": [
    "for i in range(20):\n",
    "    train_epoch(linear1, lr, params)\n",
    "    print(validate_epoch(linear1), end=' ')"
   ]
  },
  {
   "cell_type": "code",
   "execution_count": 44,
   "metadata": {},
   "outputs": [
    {
     "data": {
      "text/plain": [
       "(torch.Size([1, 784]), torch.Size([1]))"
      ]
     },
     "execution_count": 44,
     "metadata": {},
     "output_type": "execute_result"
    }
   ],
   "source": [
    "linear_model = nn.Linear(28*28,1)\n",
    "w,b = linear_model.parameters()\n",
    "w.shape, b.shape"
   ]
  },
  {
   "cell_type": "code",
   "execution_count": 45,
   "metadata": {},
   "outputs": [
    {
     "data": {
      "text/plain": [
       "0.273"
      ]
     },
     "execution_count": 45,
     "metadata": {},
     "output_type": "execute_result"
    }
   ],
   "source": [
    "class BasicOptim:\n",
    "    def __init__(self, params, lr): self.params, self.lr = list(params), lr\n",
    "\n",
    "    def step(self, *args, **kwargs):\n",
    "        for p in self.params: p.data -= p.grad.data * self.lr\n",
    "    \n",
    "    def zero_grad(self, *args, **kwargs):\n",
    "        for p in self.params: p.grad = None\n",
    "\n",
    "opt = BasicOptim(linear_model.parameters(), lr)\n",
    "\n",
    "def train_epoch(model):\n",
    "    for xb, yb in dl:\n",
    "        calc_grad(xb, yb, model)\n",
    "        opt.step()\n",
    "        opt.zero_grad()\n",
    "\n",
    "validate_epoch(linear_model)\n",
    "        "
   ]
  },
  {
   "cell_type": "code",
   "execution_count": 46,
   "metadata": {},
   "outputs": [
    {
     "name": "stdout",
     "output_type": "stream",
     "text": [
      "0.4932 0.8677 0.8203 0.9102 0.9341 0.9463 0.9555 0.9624 0.9653 0.9668 0.9692 0.9712 0.9726 0.9746 0.9761 0.9765 0.9775 0.9775 0.9785 0.979 "
     ]
    }
   ],
   "source": [
    "def train_model(model, epochs):\n",
    "    for i in range(epochs):\n",
    "        train_epoch(model)\n",
    "        print(validate_epoch(model), end=' ')\n",
    "\n",
    "train_model(linear_model, 20)"
   ]
  },
  {
   "cell_type": "code",
   "execution_count": 49,
   "metadata": {},
   "outputs": [
    {
     "data": {
      "text/html": [
       "\n",
       "<style>\n",
       "    /* Turns off some styling */\n",
       "    progress {\n",
       "        /* gets rid of default border in Firefox and Opera. */\n",
       "        border: none;\n",
       "        /* Needs to be in here for Safari polyfill so background images work as expected. */\n",
       "        background-size: auto;\n",
       "    }\n",
       "    progress:not([value]), progress:not([value])::-webkit-progress-bar {\n",
       "        background: repeating-linear-gradient(45deg, #7e7e7e, #7e7e7e 10px, #5c5c5c 10px, #5c5c5c 20px);\n",
       "    }\n",
       "    .progress-bar-interrupted, .progress-bar-interrupted::-webkit-progress-bar {\n",
       "        background: #F44336;\n",
       "    }\n",
       "</style>\n"
      ],
      "text/plain": [
       "<IPython.core.display.HTML object>"
      ]
     },
     "metadata": {},
     "output_type": "display_data"
    },
    {
     "data": {
      "text/html": [
       "<table border=\"1\" class=\"dataframe\">\n",
       "  <thead>\n",
       "    <tr style=\"text-align: left;\">\n",
       "      <th>epoch</th>\n",
       "      <th>train_loss</th>\n",
       "      <th>valid_loss</th>\n",
       "      <th>batch_accuracy</th>\n",
       "      <th>time</th>\n",
       "    </tr>\n",
       "  </thead>\n",
       "  <tbody>\n",
       "    <tr>\n",
       "      <td>0</td>\n",
       "      <td>0.637156</td>\n",
       "      <td>0.503608</td>\n",
       "      <td>0.495584</td>\n",
       "      <td>00:00</td>\n",
       "    </tr>\n",
       "    <tr>\n",
       "      <td>1</td>\n",
       "      <td>0.584681</td>\n",
       "      <td>0.129718</td>\n",
       "      <td>0.911678</td>\n",
       "      <td>00:00</td>\n",
       "    </tr>\n",
       "    <tr>\n",
       "      <td>2</td>\n",
       "      <td>0.211844</td>\n",
       "      <td>0.214232</td>\n",
       "      <td>0.799313</td>\n",
       "      <td>00:00</td>\n",
       "    </tr>\n",
       "    <tr>\n",
       "      <td>3</td>\n",
       "      <td>0.091433</td>\n",
       "      <td>0.116216</td>\n",
       "      <td>0.903827</td>\n",
       "      <td>00:00</td>\n",
       "    </tr>\n",
       "    <tr>\n",
       "      <td>4</td>\n",
       "      <td>0.047124</td>\n",
       "      <td>0.082563</td>\n",
       "      <td>0.930324</td>\n",
       "      <td>00:00</td>\n",
       "    </tr>\n",
       "    <tr>\n",
       "      <td>5</td>\n",
       "      <td>0.029938</td>\n",
       "      <td>0.065275</td>\n",
       "      <td>0.945044</td>\n",
       "      <td>00:00</td>\n",
       "    </tr>\n",
       "    <tr>\n",
       "      <td>6</td>\n",
       "      <td>0.022934</td>\n",
       "      <td>0.054678</td>\n",
       "      <td>0.954367</td>\n",
       "      <td>00:00</td>\n",
       "    </tr>\n",
       "    <tr>\n",
       "      <td>7</td>\n",
       "      <td>0.019874</td>\n",
       "      <td>0.047678</td>\n",
       "      <td>0.961236</td>\n",
       "      <td>00:00</td>\n",
       "    </tr>\n",
       "    <tr>\n",
       "      <td>8</td>\n",
       "      <td>0.018363</td>\n",
       "      <td>0.042798</td>\n",
       "      <td>0.965162</td>\n",
       "      <td>00:00</td>\n",
       "    </tr>\n",
       "    <tr>\n",
       "      <td>9</td>\n",
       "      <td>0.017480</td>\n",
       "      <td>0.039225</td>\n",
       "      <td>0.966634</td>\n",
       "      <td>00:00</td>\n",
       "    </tr>\n",
       "  </tbody>\n",
       "</table>"
      ],
      "text/plain": [
       "<IPython.core.display.HTML object>"
      ]
     },
     "metadata": {},
     "output_type": "display_data"
    }
   ],
   "source": [
    "dls = DataLoaders(dl, valid_dl)\n",
    "learn = Learner(dls, nn.Linear(28*28,1), opt_func=SGD, loss_func=mnist_loss, metrics=batch_accuracy)\n",
    "learn.fit(10, lr=lr)"
   ]
  },
  {
   "cell_type": "code",
   "execution_count": 50,
   "metadata": {},
   "outputs": [
    {
     "data": {
      "text/html": [
       "\n",
       "<style>\n",
       "    /* Turns off some styling */\n",
       "    progress {\n",
       "        /* gets rid of default border in Firefox and Opera. */\n",
       "        border: none;\n",
       "        /* Needs to be in here for Safari polyfill so background images work as expected. */\n",
       "        background-size: auto;\n",
       "    }\n",
       "    progress:not([value]), progress:not([value])::-webkit-progress-bar {\n",
       "        background: repeating-linear-gradient(45deg, #7e7e7e, #7e7e7e 10px, #5c5c5c 10px, #5c5c5c 20px);\n",
       "    }\n",
       "    .progress-bar-interrupted, .progress-bar-interrupted::-webkit-progress-bar {\n",
       "        background: #F44336;\n",
       "    }\n",
       "</style>\n"
      ],
      "text/plain": [
       "<IPython.core.display.HTML object>"
      ]
     },
     "metadata": {},
     "output_type": "display_data"
    },
    {
     "data": {
      "text/html": [
       "<table border=\"1\" class=\"dataframe\">\n",
       "  <thead>\n",
       "    <tr style=\"text-align: left;\">\n",
       "      <th>epoch</th>\n",
       "      <th>train_loss</th>\n",
       "      <th>valid_loss</th>\n",
       "      <th>batch_accuracy</th>\n",
       "      <th>time</th>\n",
       "    </tr>\n",
       "  </thead>\n",
       "  <tbody>\n",
       "    <tr>\n",
       "      <td>0</td>\n",
       "      <td>0.286995</td>\n",
       "      <td>0.412445</td>\n",
       "      <td>0.504907</td>\n",
       "      <td>00:00</td>\n",
       "    </tr>\n",
       "    <tr>\n",
       "      <td>1</td>\n",
       "      <td>0.136728</td>\n",
       "      <td>0.219076</td>\n",
       "      <td>0.816977</td>\n",
       "      <td>00:00</td>\n",
       "    </tr>\n",
       "    <tr>\n",
       "      <td>2</td>\n",
       "      <td>0.077330</td>\n",
       "      <td>0.112417</td>\n",
       "      <td>0.920020</td>\n",
       "      <td>00:00</td>\n",
       "    </tr>\n",
       "    <tr>\n",
       "      <td>3</td>\n",
       "      <td>0.051864</td>\n",
       "      <td>0.076805</td>\n",
       "      <td>0.943081</td>\n",
       "      <td>00:00</td>\n",
       "    </tr>\n",
       "    <tr>\n",
       "      <td>4</td>\n",
       "      <td>0.039865</td>\n",
       "      <td>0.060285</td>\n",
       "      <td>0.957802</td>\n",
       "      <td>00:00</td>\n",
       "    </tr>\n",
       "    <tr>\n",
       "      <td>5</td>\n",
       "      <td>0.033627</td>\n",
       "      <td>0.050910</td>\n",
       "      <td>0.964181</td>\n",
       "      <td>00:00</td>\n",
       "    </tr>\n",
       "    <tr>\n",
       "      <td>6</td>\n",
       "      <td>0.029985</td>\n",
       "      <td>0.044977</td>\n",
       "      <td>0.967615</td>\n",
       "      <td>00:00</td>\n",
       "    </tr>\n",
       "    <tr>\n",
       "      <td>7</td>\n",
       "      <td>0.027585</td>\n",
       "      <td>0.040921</td>\n",
       "      <td>0.968106</td>\n",
       "      <td>00:00</td>\n",
       "    </tr>\n",
       "    <tr>\n",
       "      <td>8</td>\n",
       "      <td>0.025840</td>\n",
       "      <td>0.037967</td>\n",
       "      <td>0.969087</td>\n",
       "      <td>00:00</td>\n",
       "    </tr>\n",
       "    <tr>\n",
       "      <td>9</td>\n",
       "      <td>0.024480</td>\n",
       "      <td>0.035712</td>\n",
       "      <td>0.971541</td>\n",
       "      <td>00:00</td>\n",
       "    </tr>\n",
       "    <tr>\n",
       "      <td>10</td>\n",
       "      <td>0.023373</td>\n",
       "      <td>0.033923</td>\n",
       "      <td>0.972031</td>\n",
       "      <td>00:00</td>\n",
       "    </tr>\n",
       "    <tr>\n",
       "      <td>11</td>\n",
       "      <td>0.022446</td>\n",
       "      <td>0.032459</td>\n",
       "      <td>0.972522</td>\n",
       "      <td>00:00</td>\n",
       "    </tr>\n",
       "    <tr>\n",
       "      <td>12</td>\n",
       "      <td>0.021654</td>\n",
       "      <td>0.031230</td>\n",
       "      <td>0.974485</td>\n",
       "      <td>00:00</td>\n",
       "    </tr>\n",
       "    <tr>\n",
       "      <td>13</td>\n",
       "      <td>0.020969</td>\n",
       "      <td>0.030173</td>\n",
       "      <td>0.974975</td>\n",
       "      <td>00:00</td>\n",
       "    </tr>\n",
       "    <tr>\n",
       "      <td>14</td>\n",
       "      <td>0.020368</td>\n",
       "      <td>0.029251</td>\n",
       "      <td>0.974975</td>\n",
       "      <td>00:00</td>\n",
       "    </tr>\n",
       "    <tr>\n",
       "      <td>15</td>\n",
       "      <td>0.019836</td>\n",
       "      <td>0.028435</td>\n",
       "      <td>0.975466</td>\n",
       "      <td>00:00</td>\n",
       "    </tr>\n",
       "    <tr>\n",
       "      <td>16</td>\n",
       "      <td>0.019359</td>\n",
       "      <td>0.027707</td>\n",
       "      <td>0.975957</td>\n",
       "      <td>00:00</td>\n",
       "    </tr>\n",
       "    <tr>\n",
       "      <td>17</td>\n",
       "      <td>0.018929</td>\n",
       "      <td>0.027052</td>\n",
       "      <td>0.976448</td>\n",
       "      <td>00:00</td>\n",
       "    </tr>\n",
       "    <tr>\n",
       "      <td>18</td>\n",
       "      <td>0.018537</td>\n",
       "      <td>0.026459</td>\n",
       "      <td>0.976938</td>\n",
       "      <td>00:00</td>\n",
       "    </tr>\n",
       "    <tr>\n",
       "      <td>19</td>\n",
       "      <td>0.018179</td>\n",
       "      <td>0.025919</td>\n",
       "      <td>0.977429</td>\n",
       "      <td>00:00</td>\n",
       "    </tr>\n",
       "    <tr>\n",
       "      <td>20</td>\n",
       "      <td>0.017850</td>\n",
       "      <td>0.025426</td>\n",
       "      <td>0.978410</td>\n",
       "      <td>00:00</td>\n",
       "    </tr>\n",
       "    <tr>\n",
       "      <td>21</td>\n",
       "      <td>0.017545</td>\n",
       "      <td>0.024974</td>\n",
       "      <td>0.978901</td>\n",
       "      <td>00:00</td>\n",
       "    </tr>\n",
       "    <tr>\n",
       "      <td>22</td>\n",
       "      <td>0.017261</td>\n",
       "      <td>0.024559</td>\n",
       "      <td>0.979882</td>\n",
       "      <td>00:00</td>\n",
       "    </tr>\n",
       "    <tr>\n",
       "      <td>23</td>\n",
       "      <td>0.016997</td>\n",
       "      <td>0.024175</td>\n",
       "      <td>0.980373</td>\n",
       "      <td>00:00</td>\n",
       "    </tr>\n",
       "    <tr>\n",
       "      <td>24</td>\n",
       "      <td>0.016749</td>\n",
       "      <td>0.023820</td>\n",
       "      <td>0.980373</td>\n",
       "      <td>00:00</td>\n",
       "    </tr>\n",
       "    <tr>\n",
       "      <td>25</td>\n",
       "      <td>0.016516</td>\n",
       "      <td>0.023491</td>\n",
       "      <td>0.980373</td>\n",
       "      <td>00:00</td>\n",
       "    </tr>\n",
       "    <tr>\n",
       "      <td>26</td>\n",
       "      <td>0.016296</td>\n",
       "      <td>0.023184</td>\n",
       "      <td>0.980864</td>\n",
       "      <td>00:00</td>\n",
       "    </tr>\n",
       "    <tr>\n",
       "      <td>27</td>\n",
       "      <td>0.016088</td>\n",
       "      <td>0.022899</td>\n",
       "      <td>0.980864</td>\n",
       "      <td>00:00</td>\n",
       "    </tr>\n",
       "    <tr>\n",
       "      <td>28</td>\n",
       "      <td>0.015891</td>\n",
       "      <td>0.022633</td>\n",
       "      <td>0.980864</td>\n",
       "      <td>00:00</td>\n",
       "    </tr>\n",
       "    <tr>\n",
       "      <td>29</td>\n",
       "      <td>0.015704</td>\n",
       "      <td>0.022385</td>\n",
       "      <td>0.981354</td>\n",
       "      <td>00:00</td>\n",
       "    </tr>\n",
       "    <tr>\n",
       "      <td>30</td>\n",
       "      <td>0.015526</td>\n",
       "      <td>0.022153</td>\n",
       "      <td>0.981845</td>\n",
       "      <td>00:00</td>\n",
       "    </tr>\n",
       "    <tr>\n",
       "      <td>31</td>\n",
       "      <td>0.015356</td>\n",
       "      <td>0.021936</td>\n",
       "      <td>0.981845</td>\n",
       "      <td>00:00</td>\n",
       "    </tr>\n",
       "    <tr>\n",
       "      <td>32</td>\n",
       "      <td>0.015194</td>\n",
       "      <td>0.021733</td>\n",
       "      <td>0.981845</td>\n",
       "      <td>00:00</td>\n",
       "    </tr>\n",
       "    <tr>\n",
       "      <td>33</td>\n",
       "      <td>0.015040</td>\n",
       "      <td>0.021542</td>\n",
       "      <td>0.981845</td>\n",
       "      <td>00:00</td>\n",
       "    </tr>\n",
       "    <tr>\n",
       "      <td>34</td>\n",
       "      <td>0.014892</td>\n",
       "      <td>0.021363</td>\n",
       "      <td>0.981845</td>\n",
       "      <td>00:00</td>\n",
       "    </tr>\n",
       "    <tr>\n",
       "      <td>35</td>\n",
       "      <td>0.014750</td>\n",
       "      <td>0.021194</td>\n",
       "      <td>0.982336</td>\n",
       "      <td>00:00</td>\n",
       "    </tr>\n",
       "    <tr>\n",
       "      <td>36</td>\n",
       "      <td>0.014614</td>\n",
       "      <td>0.021034</td>\n",
       "      <td>0.982336</td>\n",
       "      <td>00:00</td>\n",
       "    </tr>\n",
       "    <tr>\n",
       "      <td>37</td>\n",
       "      <td>0.014483</td>\n",
       "      <td>0.020883</td>\n",
       "      <td>0.982336</td>\n",
       "      <td>00:00</td>\n",
       "    </tr>\n",
       "    <tr>\n",
       "      <td>38</td>\n",
       "      <td>0.014357</td>\n",
       "      <td>0.020740</td>\n",
       "      <td>0.982336</td>\n",
       "      <td>00:00</td>\n",
       "    </tr>\n",
       "    <tr>\n",
       "      <td>39</td>\n",
       "      <td>0.014236</td>\n",
       "      <td>0.020604</td>\n",
       "      <td>0.982336</td>\n",
       "      <td>00:00</td>\n",
       "    </tr>\n",
       "  </tbody>\n",
       "</table>"
      ],
      "text/plain": [
       "<IPython.core.display.HTML object>"
      ]
     },
     "metadata": {},
     "output_type": "display_data"
    }
   ],
   "source": [
    "simple_net = nn.Sequential(nn.Linear(28*28, 30), nn.ReLU(), nn.Linear(30,1))\n",
    "learner = Learner(dls, simple_net, opt_func=SGD, loss_func=mnist_loss, metrics=batch_accuracy)\n",
    "learner.fit(40, 0.1)"
   ]
  },
  {
   "cell_type": "code",
   "execution_count": 54,
   "metadata": {},
   "outputs": [
    {
     "data": {
      "text/plain": [
       "[<matplotlib.lines.Line2D at 0x1ffd19537f0>]"
      ]
     },
     "execution_count": 54,
     "metadata": {},
     "output_type": "execute_result"
    },
    {
     "data": {
      "image/png": "[encoded data removed]",
      "text/plain": [
       "<Figure size 640x480 with 1 Axes>"
      ]
     },
     "metadata": {},
     "output_type": "display_data"
    }
   ],
   "source": [
    "plt.plot(L(learn.recorder.values).itemgot(2))"
   ]
  },
  {
   "cell_type": "code",
   "execution_count": 55,
   "metadata": {},
   "outputs": [
    {
     "data": {
      "text/plain": [
       "0.9666339755058289"
      ]
     },
     "execution_count": 55,
     "metadata": {},
     "output_type": "execute_result"
    }
   ],
   "source": [
    "learn.recorder.values[-1][2]"
   ]
  }
 ],
 "metadata": {
  "kernelspec": {
   "display_name": "Python 3.10.9 64-bit (microsoft store)",
   "language": "python",
   "name": "python3"
  },
  "language_info": {
   "codemirror_mode": {
    "name": "ipython",
    "version": 3
   },
   "file_extension": ".py",
   "mimetype": "text/x-python",
   "name": "python",
   "nbconvert_exporter": "python",
   "pygments_lexer": "ipython3",
   "version": "3.10.9"
  },
  "orig_nbformat": 4,
  "vscode": {
   "interpreter": {
    "hash": "85a3a7bfebba26730bf503b9a6d8c41e2ddf325a7dd63ef7bcaef214a69345bc"
   }
  }
 },
 "nbformat": 4,
 "nbformat_minor": 2
}
